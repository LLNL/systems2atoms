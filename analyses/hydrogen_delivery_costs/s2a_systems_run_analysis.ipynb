{
 "cells": [
  {
   "cell_type": "markdown",
   "id": "7e2948fe",
   "metadata": {},
   "source": [
    "### DESCRIPTION\n",
    "\n",
    "Run S2A systems technoeconomic analysis. Run \"s2a_systems_functions.py\" for user-specified input parameters.\n",
    "\n",
    "Outputs:\n",
    "- \"input params.csv\": all sets of input parameters mapped to run #.\n",
    "- \"input params_varied.csv\": input parameters that are different from baseline input parameters (run 0) mapped to run #.\n",
    "- \"output_[xxxx].csv\": input parameters and results for each run. Filename suffix = run #.\n",
    "- \"output_all runs.csv\": input parameters and results for all runs.\n",
    "- \"output_all runs_refueling station costs.csv\": refueling station inputs and costs for \"LOHC - formic acid\" pathway for all runs.\n",
    "- \"output_all runs_refueling station costs_pivot.csv\": refueling station inputs and costs for \"LOHC - formic acid\" pathway for all runs, pivot format.\n",
    "- \"output_cost by [pathway/process/location/function/process-function].csv\": input parameters and cost results for all runs aggregated by pathway, process (e.g., preconditioning), location (e.g., terminal), function (e.g., compression), or by process and function.\n",
    "- - \"output_emissions by [pathway/process/location/function/process-function].csv\": input parameters and emissions results for all runs aggregated by pathway, process (e.g., preconditioning), location (e.g., terminal), function (e.g., compression), or by process and function."
   ]
  },
  {
   "cell_type": "markdown",
   "id": "801cde6c",
   "metadata": {},
   "source": [
    "### IMPORT MODULES"
   ]
  },
  {
   "cell_type": "code",
   "execution_count": 1,
   "id": "f705bc28",
   "metadata": {},
   "outputs": [],
   "source": [
    "import s2a_systems_functions as s2a_sys\n",
    "import numpy as np\n",
    "import pandas as pd\n",
    "import os\n",
    "from datetime import date"
   ]
  },
  {
   "cell_type": "code",
   "execution_count": 2,
   "id": "2bfb1bda",
   "metadata": {
    "scrolled": true
   },
   "outputs": [
    {
     "name": "stdout",
     "output_type": "stream",
     "text": [
      "Help on function calcs in module s2a_systems_functions:\n",
      "\n",
      "calcs(dict_input_params={'run #': 0, 'output dollar year': 2022, 'target station capacity (kg/day)': 1000.0, 'target number of stations': 10, 'one-way delivery distance (mile)': 100.0, 'electricity cost ($/kWh)': 0.1709, 'diesel cost ($/gallon)': 6.028, 'electricity emission factor (kg CO2/kWh)': 0.228, 'diesel emission factor (kg CO2/gallon)': 10.18, 'hydrogen prod. emission factor (kg CO2-eq/kg)': 0.0, 'formic acid prod. emission factor (kg CO2-eq/kg)': 0.0, 'hydrogen purchase cost ($/kg)': 0.31, 'formic acid purchase cost ($/kg)': 1.0, 'formic acid production pathway': 'electro', 'hydr. reaction temperature (K)': 366.15, 'hydr. reaction pressure (bar)': 105.0, 'hydr. reaction yield': 1.0, 'hydr. reactor volume (m^3)': 1.0, 'number of hydr. reactors': 1, 'hydr. catalyst amount (kg)': 53.0, 'hydr. catalyst cost ($/kg)': 5450.0, 'hydr. catalyst lifetime (yr)': 1.0, 'hydr. reactor energy (unit TBD)': 0.0, 'hydr. separator energy (unit TBD)': 0.0, 'CO2 electrolyzer purchase cost ($/m^2)': 5250.0, 'terminal formic acid storage amount (days)': 0.25, 'dehydr. reaction temperature (K)': 300.0, 'dehydr. reaction pressure (bar)': 1.013, 'dehydr. reaction yield': 0.9999, 'dehydr. reactor volume (m^3)': 0.073, 'number of dehydr. reactors': 1, 'dehydr. catalyst amount (kg)': 9.65, 'dehydr. catalyst cost ($/kg)': 3500, 'dehydr. catalyst lifetime (yr)': 1.0, 'dehydr. reactor energy (unit TBD)': 0.0, 'dehydr. gas/liquid separator energy (unit TBD)': 0.0, 'station formic acid storage amount (days)': 1.0}, save_csv=False, output_folder='outputs')\n",
      "    Run S2A systems technoeconomic analysis for various delivery pathways.\n",
      "\n",
      "    Parameters\n",
      "    ----------\n",
      "    dict_input_params : dict\n",
      "        Dictionary containing one set of input parameters for one run.\n",
      "    save_csv : bool, default False\n",
      "        If True, save output csv file. Otherwise return total hydrogen cost ($/kg) by pathway and output dataframe.\n",
      "    output_folder : str, default 'outputs'\n",
      "        Path for saving output .csv files.\n",
      "\n",
      "    Returns\n",
      "    -------\n",
      "    df_output\n",
      "        Return dataframe containing input parameters and results (energy consumption, costs, etc.).\n",
      "    FAH2_tot_H2_cost_usd_per_kg\n",
      "        Return total $/kg H2 costs for formic acid delivery pathway (\"FAH2\").\n",
      "    GH2_tot_H2_cost_usd_per_kg\n",
      "        Return total $/kg H2 costs for compressed gaseous hydrogen delivery pathway (\"GH2\").\n",
      "    LH2_tot_H2_cost_usd_per_kg\n",
      "        Return total $/kg H2 costs for liquid hydrogen delivery pathway (\"LH2\").\n",
      "\n"
     ]
    }
   ],
   "source": [
    "# show default arguments for reference\n",
    "help(s2a_sys.calcs)"
   ]
  },
  {
   "cell_type": "markdown",
   "id": "9dc4c9dc-e386-4e8b-a073-be653dd0fff2",
   "metadata": {},
   "source": [
    "### USER INPUT"
   ]
  },
  {
   "cell_type": "code",
   "execution_count": 3,
   "id": "031fce82",
   "metadata": {},
   "outputs": [
    {
     "ename": "ImportError",
     "evalue": "Missing optional dependency 'openpyxl'.  Use pip or conda to install openpyxl.",
     "output_type": "error",
     "traceback": [
      "\u001b[1;31m---------------------------------------------------------------------------\u001b[0m",
      "\u001b[1;31mModuleNotFoundError\u001b[0m                       Traceback (most recent call last)",
      "File \u001b[1;32m~\\.conda\\envs\\test\\Lib\\site-packages\\pandas\\compat\\_optional.py:135\u001b[0m, in \u001b[0;36mimport_optional_dependency\u001b[1;34m(name, extra, errors, min_version)\u001b[0m\n\u001b[0;32m    134\u001b[0m \u001b[38;5;28;01mtry\u001b[39;00m:\n\u001b[1;32m--> 135\u001b[0m     module \u001b[38;5;241m=\u001b[39m importlib\u001b[38;5;241m.\u001b[39mimport_module(name)\n\u001b[0;32m    136\u001b[0m \u001b[38;5;28;01mexcept\u001b[39;00m \u001b[38;5;167;01mImportError\u001b[39;00m:\n",
      "File \u001b[1;32m~\\.conda\\envs\\test\\Lib\\importlib\\__init__.py:90\u001b[0m, in \u001b[0;36mimport_module\u001b[1;34m(name, package)\u001b[0m\n\u001b[0;32m     89\u001b[0m         level \u001b[38;5;241m+\u001b[39m\u001b[38;5;241m=\u001b[39m \u001b[38;5;241m1\u001b[39m\n\u001b[1;32m---> 90\u001b[0m \u001b[38;5;28;01mreturn\u001b[39;00m _bootstrap\u001b[38;5;241m.\u001b[39m_gcd_import(name[level:], package, level)\n",
      "File \u001b[1;32m<frozen importlib._bootstrap>:1387\u001b[0m, in \u001b[0;36m_gcd_import\u001b[1;34m(name, package, level)\u001b[0m\n",
      "File \u001b[1;32m<frozen importlib._bootstrap>:1360\u001b[0m, in \u001b[0;36m_find_and_load\u001b[1;34m(name, import_)\u001b[0m\n",
      "File \u001b[1;32m<frozen importlib._bootstrap>:1324\u001b[0m, in \u001b[0;36m_find_and_load_unlocked\u001b[1;34m(name, import_)\u001b[0m\n",
      "\u001b[1;31mModuleNotFoundError\u001b[0m: No module named 'openpyxl'",
      "\nDuring handling of the above exception, another exception occurred:\n",
      "\u001b[1;31mImportError\u001b[0m                               Traceback (most recent call last)",
      "Cell \u001b[1;32mIn[3], line 2\u001b[0m\n\u001b[0;32m      1\u001b[0m \u001b[38;5;66;03m# specify input parameter file\u001b[39;00m\n\u001b[1;32m----> 2\u001b[0m df_input_params_all \u001b[38;5;241m=\u001b[39m pd\u001b[38;5;241m.\u001b[39mread_excel(\u001b[38;5;124m'\u001b[39m\u001b[38;5;124minputs/input params_baseline.xlsx\u001b[39m\u001b[38;5;124m'\u001b[39m)\n\u001b[0;32m      4\u001b[0m \u001b[38;5;66;03m# specify output folder\u001b[39;00m\n\u001b[0;32m      5\u001b[0m output_folder \u001b[38;5;241m=\u001b[39m \u001b[38;5;124m'\u001b[39m\u001b[38;5;124moutputs/outputs \u001b[39m\u001b[38;5;124m'\u001b[39m \u001b[38;5;241m+\u001b[39m date\u001b[38;5;241m.\u001b[39mtoday()\u001b[38;5;241m.\u001b[39mstrftime(\u001b[38;5;124m\"\u001b[39m\u001b[38;5;124m%\u001b[39m\u001b[38;5;124mY-\u001b[39m\u001b[38;5;124m%\u001b[39m\u001b[38;5;124mm-\u001b[39m\u001b[38;5;132;01m%d\u001b[39;00m\u001b[38;5;124m\"\u001b[39m) \u001b[38;5;241m+\u001b[39m \u001b[38;5;124m'\u001b[39m\u001b[38;5;124m baseline\u001b[39m\u001b[38;5;124m'\u001b[39m\n",
      "File \u001b[1;32m~\\.conda\\envs\\test\\Lib\\site-packages\\pandas\\io\\excel\\_base.py:495\u001b[0m, in \u001b[0;36mread_excel\u001b[1;34m(io, sheet_name, header, names, index_col, usecols, dtype, engine, converters, true_values, false_values, skiprows, nrows, na_values, keep_default_na, na_filter, verbose, parse_dates, date_parser, date_format, thousands, decimal, comment, skipfooter, storage_options, dtype_backend, engine_kwargs)\u001b[0m\n\u001b[0;32m    493\u001b[0m \u001b[38;5;28;01mif\u001b[39;00m \u001b[38;5;129;01mnot\u001b[39;00m \u001b[38;5;28misinstance\u001b[39m(io, ExcelFile):\n\u001b[0;32m    494\u001b[0m     should_close \u001b[38;5;241m=\u001b[39m \u001b[38;5;28;01mTrue\u001b[39;00m\n\u001b[1;32m--> 495\u001b[0m     io \u001b[38;5;241m=\u001b[39m ExcelFile(\n\u001b[0;32m    496\u001b[0m         io,\n\u001b[0;32m    497\u001b[0m         storage_options\u001b[38;5;241m=\u001b[39mstorage_options,\n\u001b[0;32m    498\u001b[0m         engine\u001b[38;5;241m=\u001b[39mengine,\n\u001b[0;32m    499\u001b[0m         engine_kwargs\u001b[38;5;241m=\u001b[39mengine_kwargs,\n\u001b[0;32m    500\u001b[0m     )\n\u001b[0;32m    501\u001b[0m \u001b[38;5;28;01melif\u001b[39;00m engine \u001b[38;5;129;01mand\u001b[39;00m engine \u001b[38;5;241m!=\u001b[39m io\u001b[38;5;241m.\u001b[39mengine:\n\u001b[0;32m    502\u001b[0m     \u001b[38;5;28;01mraise\u001b[39;00m \u001b[38;5;167;01mValueError\u001b[39;00m(\n\u001b[0;32m    503\u001b[0m         \u001b[38;5;124m\"\u001b[39m\u001b[38;5;124mEngine should not be specified when passing \u001b[39m\u001b[38;5;124m\"\u001b[39m\n\u001b[0;32m    504\u001b[0m         \u001b[38;5;124m\"\u001b[39m\u001b[38;5;124man ExcelFile - ExcelFile already has the engine set\u001b[39m\u001b[38;5;124m\"\u001b[39m\n\u001b[0;32m    505\u001b[0m     )\n",
      "File \u001b[1;32m~\\.conda\\envs\\test\\Lib\\site-packages\\pandas\\io\\excel\\_base.py:1567\u001b[0m, in \u001b[0;36mExcelFile.__init__\u001b[1;34m(self, path_or_buffer, engine, storage_options, engine_kwargs)\u001b[0m\n\u001b[0;32m   1564\u001b[0m \u001b[38;5;28mself\u001b[39m\u001b[38;5;241m.\u001b[39mengine \u001b[38;5;241m=\u001b[39m engine\n\u001b[0;32m   1565\u001b[0m \u001b[38;5;28mself\u001b[39m\u001b[38;5;241m.\u001b[39mstorage_options \u001b[38;5;241m=\u001b[39m storage_options\n\u001b[1;32m-> 1567\u001b[0m \u001b[38;5;28mself\u001b[39m\u001b[38;5;241m.\u001b[39m_reader \u001b[38;5;241m=\u001b[39m \u001b[38;5;28mself\u001b[39m\u001b[38;5;241m.\u001b[39m_engines[engine](\n\u001b[0;32m   1568\u001b[0m     \u001b[38;5;28mself\u001b[39m\u001b[38;5;241m.\u001b[39m_io,\n\u001b[0;32m   1569\u001b[0m     storage_options\u001b[38;5;241m=\u001b[39mstorage_options,\n\u001b[0;32m   1570\u001b[0m     engine_kwargs\u001b[38;5;241m=\u001b[39mengine_kwargs,\n\u001b[0;32m   1571\u001b[0m )\n",
      "File \u001b[1;32m~\\.conda\\envs\\test\\Lib\\site-packages\\pandas\\io\\excel\\_openpyxl.py:552\u001b[0m, in \u001b[0;36mOpenpyxlReader.__init__\u001b[1;34m(self, filepath_or_buffer, storage_options, engine_kwargs)\u001b[0m\n\u001b[0;32m    534\u001b[0m \u001b[38;5;129m@doc\u001b[39m(storage_options\u001b[38;5;241m=\u001b[39m_shared_docs[\u001b[38;5;124m\"\u001b[39m\u001b[38;5;124mstorage_options\u001b[39m\u001b[38;5;124m\"\u001b[39m])\n\u001b[0;32m    535\u001b[0m \u001b[38;5;28;01mdef\u001b[39;00m \u001b[38;5;21m__init__\u001b[39m(\n\u001b[0;32m    536\u001b[0m     \u001b[38;5;28mself\u001b[39m,\n\u001b[1;32m   (...)\u001b[0m\n\u001b[0;32m    539\u001b[0m     engine_kwargs: \u001b[38;5;28mdict\u001b[39m \u001b[38;5;241m|\u001b[39m \u001b[38;5;28;01mNone\u001b[39;00m \u001b[38;5;241m=\u001b[39m \u001b[38;5;28;01mNone\u001b[39;00m,\n\u001b[0;32m    540\u001b[0m ) \u001b[38;5;241m-\u001b[39m\u001b[38;5;241m>\u001b[39m \u001b[38;5;28;01mNone\u001b[39;00m:\n\u001b[0;32m    541\u001b[0m \u001b[38;5;250m    \u001b[39m\u001b[38;5;124;03m\"\"\"\u001b[39;00m\n\u001b[0;32m    542\u001b[0m \u001b[38;5;124;03m    Reader using openpyxl engine.\u001b[39;00m\n\u001b[0;32m    543\u001b[0m \n\u001b[1;32m   (...)\u001b[0m\n\u001b[0;32m    550\u001b[0m \u001b[38;5;124;03m        Arbitrary keyword arguments passed to excel engine.\u001b[39;00m\n\u001b[0;32m    551\u001b[0m \u001b[38;5;124;03m    \"\"\"\u001b[39;00m\n\u001b[1;32m--> 552\u001b[0m     import_optional_dependency(\u001b[38;5;124m\"\u001b[39m\u001b[38;5;124mopenpyxl\u001b[39m\u001b[38;5;124m\"\u001b[39m)\n\u001b[0;32m    553\u001b[0m     \u001b[38;5;28msuper\u001b[39m()\u001b[38;5;241m.\u001b[39m\u001b[38;5;21m__init__\u001b[39m(\n\u001b[0;32m    554\u001b[0m         filepath_or_buffer,\n\u001b[0;32m    555\u001b[0m         storage_options\u001b[38;5;241m=\u001b[39mstorage_options,\n\u001b[0;32m    556\u001b[0m         engine_kwargs\u001b[38;5;241m=\u001b[39mengine_kwargs,\n\u001b[0;32m    557\u001b[0m     )\n",
      "File \u001b[1;32m~\\.conda\\envs\\test\\Lib\\site-packages\\pandas\\compat\\_optional.py:138\u001b[0m, in \u001b[0;36mimport_optional_dependency\u001b[1;34m(name, extra, errors, min_version)\u001b[0m\n\u001b[0;32m    136\u001b[0m \u001b[38;5;28;01mexcept\u001b[39;00m \u001b[38;5;167;01mImportError\u001b[39;00m:\n\u001b[0;32m    137\u001b[0m     \u001b[38;5;28;01mif\u001b[39;00m errors \u001b[38;5;241m==\u001b[39m \u001b[38;5;124m\"\u001b[39m\u001b[38;5;124mraise\u001b[39m\u001b[38;5;124m\"\u001b[39m:\n\u001b[1;32m--> 138\u001b[0m         \u001b[38;5;28;01mraise\u001b[39;00m \u001b[38;5;167;01mImportError\u001b[39;00m(msg)\n\u001b[0;32m    139\u001b[0m     \u001b[38;5;28;01mreturn\u001b[39;00m \u001b[38;5;28;01mNone\u001b[39;00m\n\u001b[0;32m    141\u001b[0m \u001b[38;5;66;03m# Handle submodules: if we have submodule, grab parent module from sys.modules\u001b[39;00m\n",
      "\u001b[1;31mImportError\u001b[0m: Missing optional dependency 'openpyxl'.  Use pip or conda to install openpyxl."
     ]
    }
   ],
   "source": [
    "# specify input parameter file\n",
    "df_input_params_all = pd.read_excel('inputs/input params_baseline.xlsx')\n",
    "\n",
    "# specify output folder\n",
    "output_folder = 'outputs/outputs ' + date.today().strftime(\"%Y-%m-%d\") + ' baseline'"
   ]
  },
  {
   "cell_type": "markdown",
   "id": "bb325537",
   "metadata": {},
   "source": [
    "### RUN SYSTEMS ANALYSIS"
   ]
  },
  {
   "cell_type": "code",
   "execution_count": null,
   "id": "0ca472b7-fb3f-47c0-a293-e629f2512a5e",
   "metadata": {},
   "outputs": [],
   "source": [
    "# create output folder if not exist\n",
    "if not os.path.exists(output_folder):\n",
    "    os.makedirs(output_folder)"
   ]
  },
  {
   "cell_type": "code",
   "execution_count": null,
   "id": "6f04da68",
   "metadata": {},
   "outputs": [],
   "source": [
    "# fill NaN values in input parameter file\n",
    "df_input_params_all.ffill(inplace = True)\n",
    "\n",
    "df_input_params_all"
   ]
  },
  {
   "cell_type": "code",
   "execution_count": null,
   "id": "81865547",
   "metadata": {},
   "outputs": [],
   "source": [
    "# create output dataframe for all runs\n",
    "df_output_all = pd.DataFrame()\n",
    "\n",
    "# run systems analysis for each set of input parameters\n",
    "for i in df_input_params_all.index:\n",
    "    \n",
    "    # create dictionary of input parameters for each run\n",
    "    df_input_params = df_input_params_all.iloc[i]\n",
    "    dict_input_params = df_input_params.to_dict()\n",
    "\n",
    "    # run systems analysis\n",
    "    df_output, _, _, _ = s2a_sys.calcs(\n",
    "        dict_input_params, \n",
    "        save_csv = True,\n",
    "        output_folder = output_folder\n",
    "        )\n",
    "\n",
    "    # add run number column and rearrange columns\n",
    "    cols = df_output.columns.tolist()\n",
    "    df_output['run #'] = df_input_params['run #']\n",
    "    df_output = df_output[['run #'] + cols]\n",
    "\n",
    "    # add output dataframe to dataframe for all runs\n",
    "    df_output_all = pd.concat([df_output_all, df_output])"
   ]
  },
  {
   "cell_type": "code",
   "execution_count": null,
   "id": "8ee8f596",
   "metadata": {},
   "outputs": [],
   "source": [
    "# save output dataframe for all runs as csv\n",
    "df_output_all.to_csv(\n",
    "    os.path.join(output_folder, 'output_all runs.csv'),         \n",
    "    index = False\n",
    "    )\n",
    "\n",
    "df_output_all"
   ]
  },
  {
   "cell_type": "markdown",
   "id": "9f9d2aab",
   "metadata": {},
   "source": [
    "### PROCESS OUTPUT"
   ]
  },
  {
   "cell_type": "code",
   "execution_count": null,
   "id": "3686c870",
   "metadata": {},
   "outputs": [],
   "source": [
    "# drop scenario and run number rows\n",
    "df_output_all = df_output_all.loc[\n",
    "    ~df_output_all['variable name'].isin(['scenario', 'run #'])\n",
    "    ].reset_index(drop = True)"
   ]
  },
  {
   "cell_type": "code",
   "execution_count": null,
   "id": "ddf90610",
   "metadata": {},
   "outputs": [],
   "source": [
    "# filter for $/kg H2 cost results\n",
    "df_usd_per_kg = df_output_all.loc[\n",
    "    df_output_all['unit'] == '$/kg H2'\n",
    "    ].reset_index(drop = True)\n",
    "\n",
    "# filter for kg CO2/kg H2 emissions results\n",
    "df_kgCO2_per_kg = df_output_all.loc[\n",
    "    df_output_all['unit'] == 'kg CO2/kg H2'\n",
    "    ].reset_index(drop = True)"
   ]
  },
  {
   "cell_type": "markdown",
   "id": "d058ad7b",
   "metadata": {},
   "source": [
    "#### OUTPUT: all input parameters"
   ]
  },
  {
   "cell_type": "code",
   "execution_count": null,
   "id": "07b385b1",
   "metadata": {},
   "outputs": [],
   "source": [
    "# write input parameters as csv to output folder\n",
    "df_input_params_all.to_csv(\n",
    "    os.path.join(output_folder, 'input params.csv'),         \n",
    "    index = False\n",
    "    )"
   ]
  },
  {
   "cell_type": "markdown",
   "id": "2b0e66d9",
   "metadata": {},
   "source": [
    "#### OUTPUT: varied input parameters\n",
    "including base and user-defined values "
   ]
  },
  {
   "cell_type": "code",
   "execution_count": null,
   "id": "66e7853a",
   "metadata": {},
   "outputs": [],
   "source": [
    "# find column names of varied input parameters\n",
    "varied_cols = []\n",
    "\n",
    "for col in df_input_params_all.columns[2:]:\n",
    "    if any(df_input_params_all[col] != df_input_params_all[col][0]):\n",
    "        varied_cols.append(col)\n",
    "\n",
    "# extract varied input parameters\n",
    "df_input_params_varied = df_input_params_all[\n",
    "    ['scenario', 'run #'] + varied_cols\n",
    "    ]\n",
    "\n",
    "# save dataframe as csv\n",
    "df_input_params_varied.to_csv(\n",
    "    os.path.join(output_folder, 'input params_varied.csv'),         \n",
    "    index = False\n",
    "    )\n",
    "\n",
    "df_input_params_varied"
   ]
  },
  {
   "cell_type": "markdown",
   "id": "b2c0cebd",
   "metadata": {},
   "source": [
    "#### OUTPUT: refueling station costs for process modeling team"
   ]
  },
  {
   "cell_type": "code",
   "execution_count": null,
   "id": "acbf456c",
   "metadata": {
    "scrolled": true
   },
   "outputs": [],
   "source": [
    "# set filters for refueling station costs\n",
    "# including catalyst amount and reactor volume\n",
    "pathway = ['LOHC - formic acid', 'all']\n",
    "location = ['refueling station', 'all']\n",
    "units = ['$/yr', '$/kg H2', '$/station', 'kg', 'm^3']\n",
    "# equipment = [\n",
    "#     'compressor',\n",
    "#     'refrigerator',\n",
    "#     'cryogenic pump',\n",
    "#     'reactor pump',\n",
    "#     'reactor',\n",
    "#     'catalyst',\n",
    "#     'PSA refrigerator',\n",
    "#     'PSA'\n",
    "#     ]\n",
    "\n",
    "# filter results\n",
    "df_stn = df_output_all.loc[\n",
    "    df_output_all['pathway'].isin(pathway) & \\\n",
    "    df_output_all['location'].isin(location) & \\\n",
    "    df_output_all['unit'].isin(units)\n",
    "    ].reset_index(drop = True)\n",
    "\n",
    "# filter out hydrogenation inputs\n",
    "df_stn = df_stn.loc[\n",
    "    ~df_stn['variable name'].str.startswith('hydr.')\n",
    "    ]\n",
    "\n",
    "# save dataframe as csv\n",
    "df_stn.to_csv(\n",
    "    os.path.join(\n",
    "        output_folder, \n",
    "        'output_all runs_refueling station costs.csv'\n",
    "        ),         \n",
    "    index = False\n",
    "    )\n",
    "\n",
    "df_stn"
   ]
  },
  {
   "cell_type": "code",
   "execution_count": null,
   "id": "d45442dd",
   "metadata": {},
   "outputs": [],
   "source": [
    "# create column of output name\n",
    "df_stn['name'] = \\\n",
    "    df_stn['equipment'] + ' ' + \\\n",
    "    df_stn['variable name'] + ' (' + \\\n",
    "    df_stn['unit'] + ')'\n",
    "\n",
    "# drop unused columns\n",
    "df_stn = df_stn[[\n",
    "    'run #', \n",
    "    'name',\n",
    "    'value',\n",
    "    ]]\n",
    "\n",
    "# pivot dataframe\n",
    "df_stn_pivot = df_stn.pivot(\n",
    "    columns = 'name', \n",
    "    index = 'run #', \n",
    "    values = 'value'\n",
    "    ).reset_index()\n",
    "\n",
    "# remove name of columns\n",
    "df_stn_pivot.columns.name = None\n",
    "\n",
    "# merge in varied input parameters\n",
    "df_stn_pivot = df_input_params_varied.merge(\n",
    "    right = df_stn_pivot, \n",
    "    on='run #', \n",
    "    how = 'right'\n",
    "    )\n",
    "\n",
    "# save dataframe as csv\n",
    "df_stn_pivot.to_csv(\n",
    "    os.path.join(\n",
    "        output_folder, \n",
    "        'output_all runs_refueling station costs_pivot.csv'\n",
    "        ),         \n",
    "    index = False\n",
    "    )\n",
    "\n",
    "df_stn_pivot"
   ]
  },
  {
   "cell_type": "markdown",
   "id": "5ce2e717",
   "metadata": {},
   "source": [
    "#### OUTPUT: total costs ($/kg H2) and emissions (kg CO2/kg H2) by pathway"
   ]
  },
  {
   "cell_type": "code",
   "execution_count": null,
   "id": "798f3a8a",
   "metadata": {
    "scrolled": true
   },
   "outputs": [],
   "source": [
    "# calculate total $/kg H2 cost by pathway\n",
    "df_usd_per_kg_path = df_usd_per_kg.groupby(\n",
    "    by = ['run #', 'pathway'])['value'].sum().reset_index()\n",
    "\n",
    "# update column name\n",
    "df_usd_per_kg_path.rename(\n",
    "    columns = {'value' : 'total levelized cost of hydrogen ($/kg H2)'}, \n",
    "    inplace = True\n",
    "    )\n",
    "        \n",
    "# merge with input parameter dataframe\n",
    "df_usd_per_kg_path = df_input_params_all.merge(\n",
    "    right = df_usd_per_kg_path, \n",
    "    on = 'run #'\n",
    "    )\n",
    "\n",
    "# save dataframe as csv\n",
    "df_usd_per_kg_path.to_csv(\n",
    "    os.path.join(output_folder, 'output_cost by pathway.csv'),         \n",
    "    index = False\n",
    "    )\n",
    "\n",
    "df_usd_per_kg_path"
   ]
  },
  {
   "cell_type": "code",
   "execution_count": null,
   "id": "4097751e",
   "metadata": {
    "scrolled": true
   },
   "outputs": [],
   "source": [
    "# calculate total kg CO2/kg H2 emissions by pathway\n",
    "df_kgCO2_per_kg_path = df_kgCO2_per_kg.groupby(\n",
    "    by = ['run #', 'pathway'])['value'].sum().reset_index()\n",
    "\n",
    "# update column name\n",
    "df_kgCO2_per_kg_path.rename(\n",
    "    columns = {'value' : 'total emissions (kg CO2-eq/kg H2)'}, \n",
    "    inplace = True\n",
    "    )\n",
    "        \n",
    "# merge with input parameter dataframe\n",
    "df_kgCO2_per_kg_path = df_input_params_all.merge(\n",
    "    right = df_kgCO2_per_kg_path, \n",
    "    on = 'run #'\n",
    "    )\n",
    "\n",
    "# save dataframe as csv\n",
    "df_kgCO2_per_kg_path.to_csv(\n",
    "    os.path.join(output_folder, 'output_emissions by pathway.csv'),         \n",
    "    index = False\n",
    "    )\n",
    "\n",
    "df_kgCO2_per_kg_path"
   ]
  },
  {
   "cell_type": "markdown",
   "id": "2efb53bf",
   "metadata": {},
   "source": [
    "#### OUTPUT: total costs ($/kg H2) and emissions (kg CO2/kg H2) by pathway and process"
   ]
  },
  {
   "cell_type": "code",
   "execution_count": null,
   "id": "4fbe4d01",
   "metadata": {},
   "outputs": [],
   "source": [
    "# calculate total $/kg H2 cost by pathway and process\n",
    "df_usd_per_kg_proc = df_usd_per_kg.groupby(\n",
    "    by = ['run #', 'pathway', 'process'])['value'].sum().reset_index()\n",
    "\n",
    "# update column name\n",
    "df_usd_per_kg_proc.rename(\n",
    "    columns = {'value' : 'total levelized cost of hydrogen ($/kg H2)'}, \n",
    "    inplace = True\n",
    "    )\n",
    "        \n",
    "# merge with input parameter dataframe\n",
    "df_usd_per_kg_proc = df_input_params_all.merge(\n",
    "    right = df_usd_per_kg_proc, \n",
    "    on = 'run #'\n",
    "    )\n",
    "\n",
    "# save dataframe as csv\n",
    "df_usd_per_kg_proc.to_csv(\n",
    "    os.path.join(output_folder, 'output_cost by process.csv'),         \n",
    "    index = False\n",
    "    )\n",
    "\n",
    "df_usd_per_kg_proc"
   ]
  },
  {
   "cell_type": "code",
   "execution_count": null,
   "id": "43d8c275",
   "metadata": {},
   "outputs": [],
   "source": [
    "# calculate total kg CO2/kg H2 emissions by pathway and process\n",
    "df_kgCO2_per_kg_proc = df_kgCO2_per_kg.groupby(\n",
    "    by = ['run #', 'pathway', 'process'])['value'].sum().reset_index()\n",
    "\n",
    "# update column name\n",
    "df_kgCO2_per_kg_proc.rename(\n",
    "    columns = {'value' : 'total emissions (kg CO2-eq/kg H2)'}, \n",
    "    inplace = True\n",
    "    )\n",
    "        \n",
    "# merge with input parameter dataframe\n",
    "df_kgCO2_per_kg_proc = df_input_params_all.merge(\n",
    "    right = df_kgCO2_per_kg_proc, \n",
    "    on = 'run #'\n",
    "    )\n",
    "\n",
    "# save dataframe as csv\n",
    "df_kgCO2_per_kg_proc.to_csv(\n",
    "    os.path.join(output_folder, 'output_emissions by process.csv'),         \n",
    "    index = False\n",
    "    )\n",
    "\n",
    "df_kgCO2_per_kg_proc"
   ]
  },
  {
   "cell_type": "markdown",
   "id": "3f3ac2f8",
   "metadata": {},
   "source": [
    "#### OUTPUT: total costs ($/kg H2) and emissions (kg CO2/kg H2) by pathway and location"
   ]
  },
  {
   "cell_type": "code",
   "execution_count": null,
   "id": "31ac089d",
   "metadata": {
    "scrolled": true
   },
   "outputs": [],
   "source": [
    "# calculate total $/kg H2 cost by pathway and location\n",
    "df_usd_per_kg_loc = df_usd_per_kg.groupby(\n",
    "    by = ['run #', 'pathway', 'location'])['value'].sum().reset_index()\n",
    "\n",
    "# update column name\n",
    "df_usd_per_kg_loc.rename(\n",
    "    columns = {'value' : 'total levelized cost of hydrogen ($/kg H2)'}, \n",
    "    inplace = True\n",
    "    )\n",
    "        \n",
    "# merge with input parameter dataframe\n",
    "df_usd_per_kg_loc = df_input_params_all.merge(\n",
    "    right = df_usd_per_kg_loc, \n",
    "    on = 'run #'\n",
    "    )\n",
    "\n",
    "# save dataframe as csv\n",
    "df_usd_per_kg_loc.to_csv(\n",
    "    os.path.join(output_folder, 'output_cost by location.csv'),         \n",
    "    index = False\n",
    "    )\n",
    "\n",
    "df_usd_per_kg_loc"
   ]
  },
  {
   "cell_type": "code",
   "execution_count": null,
   "id": "68e5a45d",
   "metadata": {
    "scrolled": true
   },
   "outputs": [],
   "source": [
    "# calculate total kg CO2/kg H2 emissions by pathway and location\n",
    "df_kgCO2_per_kg_loc = df_kgCO2_per_kg.groupby(\n",
    "    by = ['run #', 'pathway', 'location'])['value'].sum().reset_index()\n",
    "\n",
    "# update column name\n",
    "df_kgCO2_per_kg_loc.rename(\n",
    "    columns = {'value' : 'total emissions (kg CO2-eq/kg H2)'}, \n",
    "    inplace = True\n",
    "    )\n",
    "        \n",
    "# merge with input parameter dataframe\n",
    "df_kgCO2_per_kg_loc = df_input_params_all.merge(\n",
    "    right = df_kgCO2_per_kg_loc, \n",
    "    on = 'run #'\n",
    "    )\n",
    "\n",
    "# save dataframe as csv\n",
    "df_kgCO2_per_kg_loc.to_csv(\n",
    "    os.path.join(output_folder, 'output_emissions by location.csv'),         \n",
    "    index = False\n",
    "    )\n",
    "\n",
    "df_kgCO2_per_kg_loc"
   ]
  },
  {
   "cell_type": "markdown",
   "id": "4237ce1d",
   "metadata": {},
   "source": [
    "#### OUTPUT: total costs ($/kg H2) and emissions (kg CO2/kg H2) by pathway and function"
   ]
  },
  {
   "cell_type": "code",
   "execution_count": null,
   "id": "105be563",
   "metadata": {
    "scrolled": true
   },
   "outputs": [],
   "source": [
    "# calculate total $/kg H2 cost by pathway and function\n",
    "df_usd_per_kg_func = df_usd_per_kg.groupby(\n",
    "    by = ['run #', 'pathway', 'function'])['value'].sum().reset_index()\n",
    "\n",
    "# update column name\n",
    "df_usd_per_kg_func.rename(\n",
    "    columns = {'value' : 'total levelized cost of hydrogen ($/kg H2)'}, \n",
    "    inplace = True\n",
    "    )\n",
    "        \n",
    "# merge with input parameter dataframe\n",
    "df_usd_per_kg_func = df_input_params_all.merge(\n",
    "    right = df_usd_per_kg_func, \n",
    "    on = 'run #'\n",
    "    )\n",
    "\n",
    "# save dataframe as csv\n",
    "df_usd_per_kg_func.to_csv(\n",
    "    os.path.join(output_folder, 'output_cost by function.csv'),         \n",
    "    index = False\n",
    "    )\n",
    "\n",
    "df_usd_per_kg_func"
   ]
  },
  {
   "cell_type": "code",
   "execution_count": null,
   "id": "ca641e79",
   "metadata": {
    "scrolled": true
   },
   "outputs": [],
   "source": [
    "# calculate total kg CO2/kg H2 emissions by pathway and function\n",
    "df_kgCO2_per_kg_func = df_kgCO2_per_kg.groupby(\n",
    "    by = ['run #', 'pathway', 'function'])['value'].sum().reset_index()\n",
    "\n",
    "# update column name\n",
    "df_kgCO2_per_kg_func.rename(\n",
    "    columns = {'value' : 'total emissions (kg CO2-eq/kg H2)'}, \n",
    "    inplace = True\n",
    "    )\n",
    "        \n",
    "# merge with input parameter dataframe\n",
    "df_kgCO2_per_kg_func = df_input_params_all.merge(\n",
    "    right = df_kgCO2_per_kg_func, \n",
    "    on = 'run #'\n",
    "    )\n",
    "\n",
    "# save dataframe as csv\n",
    "df_kgCO2_per_kg_func.to_csv(\n",
    "    os.path.join(output_folder, 'output_emissions by function.csv'),         \n",
    "    index = False\n",
    "    )\n",
    "\n",
    "df_kgCO2_per_kg_func"
   ]
  },
  {
   "cell_type": "markdown",
   "id": "66d8926c",
   "metadata": {},
   "source": [
    "#### OUTPUT: total costs ($/kg H2) and emissions (kg CO2/kg H2) by pathway, process, and function"
   ]
  },
  {
   "cell_type": "code",
   "execution_count": null,
   "id": "099b9e0e",
   "metadata": {
    "scrolled": true
   },
   "outputs": [],
   "source": [
    "# calculate total $/kg H2 cost by pathway, process, and function\n",
    "df_usd_per_kg_proc_func = df_usd_per_kg.groupby(\n",
    "    by = ['run #', 'pathway', 'process', 'function']\n",
    "    )['value'].sum().reset_index()\n",
    "\n",
    "# update column name\n",
    "df_usd_per_kg_proc_func.rename(\n",
    "    columns = {'value' : 'total levelized cost of hydrogen ($/kg H2)'}, \n",
    "    inplace = True\n",
    "    )\n",
    "        \n",
    "# merge with input parameter dataframe\n",
    "df_usd_per_kg_proc_func = df_input_params_all.merge(\n",
    "    right = df_usd_per_kg_proc_func, \n",
    "    on = 'run #'\n",
    "    )\n",
    "\n",
    "# save dataframe as csv\n",
    "df_usd_per_kg_proc_func.to_csv(\n",
    "    os.path.join(output_folder, 'output_cost by process-function.csv'),         \n",
    "    index = False\n",
    "    )\n",
    "\n",
    "df_usd_per_kg_proc_func"
   ]
  },
  {
   "cell_type": "code",
   "execution_count": null,
   "id": "35acdce2",
   "metadata": {
    "scrolled": true
   },
   "outputs": [],
   "source": [
    "# calculate total kg CO2/kg H2 emissions by pathway, process, and function\n",
    "df_kgCO2_per_kg_proc_func = df_kgCO2_per_kg.groupby(\n",
    "    by = ['run #', 'pathway', 'process', 'function']\n",
    "    )['value'].sum().reset_index()\n",
    "\n",
    "# update column name\n",
    "df_kgCO2_per_kg_proc_func.rename(\n",
    "    columns = {'value' : 'total emissions (kg CO2-eq/kg H2)'}, \n",
    "    inplace = True\n",
    "    )\n",
    "        \n",
    "# merge with input parameter dataframe\n",
    "df_kgCO2_per_kg_proc_func = df_input_params_all.merge(\n",
    "    right = df_kgCO2_per_kg_proc_func, \n",
    "    on = 'run #'\n",
    "    )\n",
    "\n",
    "# save dataframe as csv\n",
    "df_kgCO2_per_kg_proc_func.to_csv(\n",
    "    os.path.join(output_folder, 'output_emissions by process-function.csv'),         \n",
    "    index = False\n",
    "    )\n",
    "\n",
    "df_kgCO2_per_kg_proc_func"
   ]
  },
  {
   "cell_type": "code",
   "execution_count": null,
   "id": "6006c4a2",
   "metadata": {},
   "outputs": [],
   "source": []
  }
 ],
 "metadata": {
  "kernelspec": {
   "display_name": "Python 3 (ipykernel)",
   "language": "python",
   "name": "python3"
  },
  "language_info": {
   "codemirror_mode": {
    "name": "ipython",
    "version": 3
   },
   "file_extension": ".py",
   "mimetype": "text/x-python",
   "name": "python",
   "nbconvert_exporter": "python",
   "pygments_lexer": "ipython3",
   "version": "3.12.3"
  }
 },
 "nbformat": 4,
 "nbformat_minor": 5
}
