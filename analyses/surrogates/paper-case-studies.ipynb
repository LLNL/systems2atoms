{
 "cells": [
  {
   "cell_type": "code",
   "execution_count": null,
   "metadata": {},
   "outputs": [],
   "source": [
    "from model_definition import model_initializer, solve, pprint\n",
    "\n",
    "import pyomo.environ as pyo\n",
    "\n",
    "import matplotlib.pyplot as plt\n",
    "# Increase figure DPI\n",
    "plt.rcParams['figure.dpi'] = 300\n",
    "\n",
    "import numpy as np\n",
    "from tqdm.auto import tqdm\n",
    "\n",
    "from pyomo.opt import SolverFactory, SolverStatus, TerminationCondition"
   ]
  },
  {
   "cell_type": "markdown",
   "metadata": {},
   "source": [
    "# One, Two, Three Model Optimization"
   ]
  },
  {
   "cell_type": "markdown",
   "metadata": {},
   "source": [
    "## One-Model Optimization"
   ]
  },
  {
   "cell_type": "code",
   "execution_count": null,
   "metadata": {},
   "outputs": [],
   "source": [
    "model = model_initializer()"
   ]
  },
  {
   "cell_type": "markdown",
   "metadata": {},
   "source": [
    "### Choose the most active nanoparticle catalyst"
   ]
  },
  {
   "cell_type": "code",
   "execution_count": null,
   "metadata": {},
   "outputs": [],
   "source": [
    "model.catalyst_type.fix(2) #Pt\n",
    "model.nanoparticle_diameter.fix(3) #nm\n",
    "model.temperature.fix(400) #K\n",
    "model.pressure.fix(100) #atm"
   ]
  },
  {
   "cell_type": "markdown",
   "metadata": {},
   "source": [
    "### Maximize the process yield"
   ]
  },
  {
   "cell_type": "markdown",
   "metadata": {},
   "source": [
    "#### Maximize amount of catalyst"
   ]
  },
  {
   "cell_type": "code",
   "execution_count": null,
   "metadata": {},
   "outputs": [],
   "source": [
    "model.obj = pyo.Objective(expr=model.catalyst_amount, sense=pyo.maximize)\n",
    "solve(model)\n",
    "pprint(model)\n",
    "\n",
    "model.catalyst_amount.fix(model.catalyst_amount.value)"
   ]
  },
  {
   "cell_type": "code",
   "execution_count": null,
   "metadata": {},
   "outputs": [],
   "source": [
    "model.pellet_effectiveness_factor.fix(1)\n",
    "#model.temperature.fix(400)\n",
    "#model.pressure.fix(100)\n",
    "model.cstr_volume.fix(2)"
   ]
  },
  {
   "cell_type": "markdown",
   "metadata": {},
   "source": [
    "### Optimize for cost"
   ]
  },
  {
   "cell_type": "code",
   "execution_count": null,
   "metadata": {},
   "outputs": [],
   "source": [
    "model.obj = pyo.Objective(expr=model.cost, sense=pyo.minimize)\n",
    "solve(model)\n",
    "pprint(model)"
   ]
  },
  {
   "cell_type": "code",
   "execution_count": null,
   "metadata": {},
   "outputs": [],
   "source": [
    "one_model_opt_cost = model.cost.value\n",
    "\n",
    "print(f\"Final cost: ${model.cost.value:.2f} / kg H2\")"
   ]
  },
  {
   "cell_type": "markdown",
   "metadata": {},
   "source": [
    "## Two-Model Optimization"
   ]
  },
  {
   "cell_type": "code",
   "execution_count": null,
   "metadata": {},
   "outputs": [],
   "source": [
    "model = model_initializer()"
   ]
  },
  {
   "cell_type": "markdown",
   "metadata": {},
   "source": [
    "### Choose the most active nanoparticle catalyst"
   ]
  },
  {
   "cell_type": "code",
   "execution_count": null,
   "metadata": {},
   "outputs": [],
   "source": [
    "model.catalyst_type.fix(2) #Pt\n",
    "model.nanoparticle_diameter.fix(3) #nm\n",
    "#model.temperature.fix(400) #K\n",
    "#model.pressure.fix(100) #atm"
   ]
  },
  {
   "cell_type": "markdown",
   "metadata": {},
   "source": [
    "### Minimize cost"
   ]
  },
  {
   "cell_type": "code",
   "execution_count": null,
   "metadata": {},
   "outputs": [],
   "source": [
    "solve(model)\n",
    "pprint(model)"
   ]
  },
  {
   "cell_type": "code",
   "execution_count": null,
   "metadata": {},
   "outputs": [],
   "source": [
    "two_model_opt_cost = model.cost.value\n",
    "\n",
    "print(f\"Final cost: ${model.cost.value:.2f} / kg H2\")"
   ]
  },
  {
   "cell_type": "markdown",
   "metadata": {},
   "source": [
    "## Three-Model Optimization"
   ]
  },
  {
   "cell_type": "code",
   "execution_count": null,
   "metadata": {},
   "outputs": [],
   "source": [
    "model = model_initializer()"
   ]
  },
  {
   "cell_type": "code",
   "execution_count": null,
   "metadata": {},
   "outputs": [],
   "source": [
    "solve(model)\n",
    "pprint(model)"
   ]
  },
  {
   "cell_type": "code",
   "execution_count": null,
   "metadata": {},
   "outputs": [],
   "source": [
    "three_model_opt_cost = model.cost.value\n",
    "\n",
    "print(f\"Final cost: ${model.cost.value:.2f} / kg H2\")"
   ]
  },
  {
   "cell_type": "markdown",
   "metadata": {},
   "source": [
    "## Final Results"
   ]
  },
  {
   "cell_type": "code",
   "execution_count": null,
   "metadata": {},
   "outputs": [],
   "source": [
    "plt.bar([1, 2, 3], [one_model_opt_cost, two_model_opt_cost, three_model_opt_cost], color = '#ed1111')\n",
    "plt.xticks([1, 2, 3], [\"One-Model\", \"Two-Model\", \"Three-Model\"])\n",
    "plt.ylabel(\"Cost ($ / kg H₂)\")\n",
    "\n",
    "plt.gca().bar_label(plt.gca().containers[0], fmt=\"$%.2f\")\n",
    "\n",
    "plt.show()"
   ]
  },
  {
   "cell_type": "markdown",
   "metadata": {},
   "source": [
    "# Economy of Scale Effect"
   ]
  },
  {
   "cell_type": "code",
   "execution_count": null,
   "metadata": {},
   "outputs": [],
   "source": [
    "Pt_costs = []\n",
    "Pd_costs = []\n",
    "Cu_costs = []\n",
    "\n",
    "capacity_list = np.linspace(100, 1500, 30)\n",
    "solver = SolverFactory('glpk')\n",
    "\n",
    "model = model_initializer()\n",
    "\n",
    "model.catalyst_type.fix(2) #Pt\n",
    "for capacity in tqdm(capacity_list):\n",
    "    model.station_capacity.fix(capacity)\n",
    "    solution = solver.solve(model, tee = False)\n",
    "    if solution.solver.termination_condition is TerminationCondition.optimal:\n",
    "        Pt_costs.append(model.cost.value)\n",
    "    else:\n",
    "        Pt_costs.append(None)\n",
    "\n",
    "model.catalyst_type.fix(0) #Pd\n",
    "for capacity in tqdm(capacity_list):\n",
    "    model.station_capacity.fix(capacity)\n",
    "    solution = solver.solve(model, tee = False)\n",
    "    if solution.solver.termination_condition == TerminationCondition.optimal:\n",
    "        Pd_costs.append(model.cost.value)\n",
    "    else:\n",
    "        Pd_costs.append(None)\n",
    "    Pd_costs = Pd_costs\n",
    "\n",
    "model.catalyst_type.fix(1) #Cu\n",
    "for capacity in tqdm(capacity_list):\n",
    "    model.station_capacity.fix(capacity)\n",
    "    solution = solver.solve(model, tee = False)\n",
    "    if solution.solver.termination_condition == TerminationCondition.optimal:\n",
    "        Cu_costs.append(model.cost.value)\n",
    "    else:\n",
    "        Cu_costs.append(None)"
   ]
  },
  {
   "cell_type": "code",
   "execution_count": null,
   "metadata": {},
   "outputs": [],
   "source": [
    "plt.scatter(capacity_list, Pt_costs, label=\"Pt\", color=\"red\")\n",
    "plt.scatter(capacity_list, Pd_costs, label=\"Pd\", color=\"blue\")\n",
    "plt.scatter(capacity_list, Cu_costs, label=\"Cu\", color=\"green\")\n",
    "plt.xlim(0, 1600)\n",
    "plt.ylim(0, 70)\n",
    "plt.xlabel(\"Station Capacity (kg H₂ / day)\")\n",
    "plt.ylabel(\"Cost ($ / kg H₂)\")\n",
    "plt.grid()\n",
    "plt.legend()\n",
    "plt.show()"
   ]
  }
 ],
 "metadata": {
  "kernelspec": {
   "display_name": "base",
   "language": "python",
   "name": "python3"
  },
  "language_info": {
   "codemirror_mode": {
    "name": "ipython",
    "version": 3
   },
   "file_extension": ".py",
   "mimetype": "text/x-python",
   "name": "python",
   "nbconvert_exporter": "python",
   "pygments_lexer": "ipython3",
   "version": "3.9.15"
  }
 },
 "nbformat": 4,
 "nbformat_minor": 2
}
