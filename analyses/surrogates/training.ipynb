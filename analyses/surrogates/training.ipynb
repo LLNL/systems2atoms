{
 "cells": [
  {
   "cell_type": "code",
   "execution_count": null,
   "metadata": {},
   "outputs": [],
   "source": [
    "import pandas as pd\n",
    "import numpy as np\n",
    "import matplotlib.pyplot as plt\n",
    "\n",
    "from matplotlib.ticker import ScalarFormatter, NullFormatter\n",
    "from sklearn.linear_model import LinearRegression\n",
    "\n",
    "from lineartree import LinearTreeRegressor"
   ]
  },
  {
   "cell_type": "markdown",
   "metadata": {},
   "source": [
    "# Component Model Surrogate"
   ]
  },
  {
   "cell_type": "code",
   "execution_count": null,
   "metadata": {},
   "outputs": [],
   "source": [
    "df = pd.read_csv('data/component_data_100000.csv')\n",
    "mask = np.random.rand(len(df)) < 0.8\n",
    "df_train, df_test = df[mask], df[~mask]\n",
    "\n",
    "inputs = ['VCSTR', 'ν', 'ξ', 'TOF', 'mol_metal']\n",
    "outputs = ['H2Yield']\n",
    "dfin = df_train[inputs]\n",
    "dfout = df_train[outputs]\n",
    "\n",
    "x = dfin.values\n",
    "y = dfout.values"
   ]
  },
  {
   "cell_type": "code",
   "execution_count": null,
   "metadata": {},
   "outputs": [],
   "source": [
    "component_surrogate = LinearTreeRegressor(\n",
    "    max_depth = 20,\n",
    "    min_samples_leaf = 0.01,\n",
    "    base_estimator = LinearRegression(),\n",
    "    n_jobs = 16,\n",
    "    criterion = 'mae'\n",
    ")\n",
    "component_surrogate.fit(x, y)\n",
    "\n",
    "print(component_surrogate.feature_importances_)\n",
    "print(len(component_surrogate._leaves))"
   ]
  },
  {
   "cell_type": "code",
   "execution_count": null,
   "metadata": {},
   "outputs": [],
   "source": [
    "component_surrogate.plot_model()"
   ]
  },
  {
   "cell_type": "code",
   "execution_count": null,
   "metadata": {},
   "outputs": [],
   "source": [
    "x_test = df_test[inputs].values\n",
    "\n",
    "y_pred = component_surrogate.predict(x_test)\n",
    "y_test = df_test[outputs].values\n",
    "\n",
    "plt.figure(dpi=200)\n",
    "\n",
    "plt.scatter(y_test, y_pred, alpha=0.1, s = 10, color='blue')\n",
    "\n",
    "plt.plot([-20, 10000],[-20, 10000], color='red')\n",
    "\n",
    "\n",
    "plt.xlabel('Actual yield (mol $H_2$/mol Metal*sec)')\n",
    "plt.ylabel('Predicted yield (mol $H_2$/mol Metal*sec)')\n",
    "\n",
    "axes = plt.gca()\n",
    "axes.set_xlim([0, 1.2])\n",
    "axes.set_ylim([0, 1.2])\n",
    "axes.set_aspect('equal', 'box')\n",
    "plt.grid()"
   ]
  },
  {
   "cell_type": "code",
   "execution_count": null,
   "metadata": {},
   "outputs": [],
   "source": [
    "component_surrogate.write_to_json('models/component_surrogate.json')"
   ]
  },
  {
   "cell_type": "markdown",
   "metadata": {},
   "source": [
    "# Costing Model Surrogate"
   ]
  },
  {
   "cell_type": "code",
   "execution_count": null,
   "metadata": {},
   "outputs": [],
   "source": [
    "df = pd.read_csv('data/cost_data_100000.csv')\n",
    "mask = np.random.rand(len(df)) < 0.8\n",
    "df_train, df_test = df[mask], df[~mask]\n",
    "\n",
    "inputs = ['VCSTR', 'StationCapacity', 'CatalystMass', 'H2Yield', 'Temperature', 'Pressure', 'CatalystPrice']\n",
    "outputs = ['Cost']\n",
    "dfin = df_train[inputs]\n",
    "dfout = df_train[outputs]\n",
    "\n",
    "x = dfin.values\n",
    "y = dfout.values"
   ]
  },
  {
   "cell_type": "code",
   "execution_count": null,
   "metadata": {},
   "outputs": [],
   "source": [
    "costing_surrogate = LinearTreeRegressor(\n",
    "    max_depth = 20,\n",
    "    min_samples_leaf = 0.003,\n",
    "    base_estimator = LinearRegression(),\n",
    "    n_jobs = 16,\n",
    "    criterion = 'msle'\n",
    ")\n",
    "costing_surrogate.fit(x, y)\n",
    "\n",
    "print(component_surrogate.feature_importances_)\n",
    "print(len(component_surrogate._leaves))"
   ]
  },
  {
   "cell_type": "code",
   "execution_count": null,
   "metadata": {},
   "outputs": [],
   "source": [
    "x_test = df_test[inputs].values\n",
    "y_pred = costing_surrogate.predict(x_test)\n",
    "y_test = df_test[outputs].values\n",
    "\n",
    "# set dpi to 300\n",
    "plt.figure(dpi=300)\n",
    "plt.scatter(y_test, y_pred, alpha=0.1, s = 10, color = 'blue')\n",
    "plt.plot([0,300],[0,300], color='red')\n",
    "plt.xlabel('Actual Cost (\\$/kg $H_2$)')\n",
    "plt.ylabel('Predicted Cost (\\$/kg $H_2$)')\n",
    "\n",
    "axes = plt.gca()\n",
    "axes.set_xlim([10,250])\n",
    "axes.set_ylim([10,250])\n",
    "axes.set_aspect('equal', 'box')\n",
    "\n",
    "# make axes logarithmic\n",
    "axes.set_xscale('log')\n",
    "axes.set_yscale('log')\n",
    "\n",
    "# Label the major and minor ticks\n",
    "axes.xaxis.set_major_formatter(ScalarFormatter())\n",
    "axes.xaxis.set_minor_formatter(ScalarFormatter())\n",
    "axes.yaxis.set_major_formatter(ScalarFormatter())\n",
    "axes.yaxis.set_minor_formatter(ScalarFormatter())\n",
    "\n",
    "# Rotate x tick labels 90 degrees\n",
    "plt.xticks(rotation=270)\n",
    "plt.setp(axes.xaxis.get_minorticklabels(), rotation=270)\n",
    "\n",
    "plt.grid(True, which=\"both\", ls=\"-\")\n",
    "plt.show()\n"
   ]
  },
  {
   "cell_type": "code",
   "execution_count": null,
   "metadata": {},
   "outputs": [],
   "source": [
    "costing_surrogate.write_to_json('models/costing_surrogate.json')"
   ]
  },
  {
   "cell_type": "markdown",
   "metadata": {},
   "source": [
    "# Nanoparticle Model Surrogate"
   ]
  },
  {
   "cell_type": "code",
   "execution_count": null,
   "metadata": {},
   "outputs": [],
   "source": [
    "df = pd.read_csv('data/combined-nanoparticle-data.csv')\n",
    "\n",
    "df['is_Pd'] = df['Metal'].str.contains('Pd').astype(int)\n",
    "df['is_Cu'] = df['Metal'].str.contains('Cu').astype(int)\n",
    "df['is_Pt'] = df['Metal'].str.contains('Pt').astype(int)\n",
    "\n",
    "df['Metal_int'] = df['Metal'].map({'Pd': 0, 'Cu': 1, 'Pt': 2})"
   ]
  },
  {
   "cell_type": "code",
   "execution_count": null,
   "metadata": {},
   "outputs": [],
   "source": [
    "df.head()"
   ]
  },
  {
   "cell_type": "code",
   "execution_count": null,
   "metadata": {},
   "outputs": [],
   "source": [
    "inputs = ['Metal_int', 'T_value (K)', 'P_value (bar)', 'Nanoparticle Diameter (nm)']\n",
    "\n",
    "outputs = ['TOF_Data (mol H2/mol Pd*sec)']\n",
    "\n",
    "Cu_mask = df['is_Cu'] == 1\n",
    "Pd_mask = df['is_Pd'] == 1\n",
    "Pt_mask = df['is_Pt'] == 1\n",
    "\n",
    "df = df[(df['Nanoparticle Diameter (nm)'] == 3) | (df['Nanoparticle Diameter (nm)'] == 4) | (df['Nanoparticle Diameter (nm)'] == 5)]\n",
    "\n",
    "\n",
    "dfin = df[inputs]\n",
    "dfout = df[outputs]\n",
    "\n",
    "x = dfin.values\n",
    "y = dfout.values"
   ]
  },
  {
   "cell_type": "code",
   "execution_count": null,
   "metadata": {},
   "outputs": [],
   "source": [
    "surrogate = LinearTreeRegressor(\n",
    "    max_depth = 12,\n",
    "    base_estimator=LinearRegression(),\n",
    "    criterion='msle',\n",
    "    min_samples_leaf = 10,\n",
    "    )\n",
    "surrogate.fit(x, y)"
   ]
  },
  {
   "cell_type": "code",
   "execution_count": null,
   "metadata": {},
   "outputs": [],
   "source": [
    "x_test = x\n",
    "\n",
    "\n",
    "y_pred = surrogate.predict(x_test)\n",
    "y_test = y\n",
    "\n",
    "plt.figure(dpi=300)\n",
    "\n",
    "plt.scatter(y_test[Cu_mask], y_pred[Cu_mask], alpha=0.1, s = 10, label = \"Cu\", color='red')\n",
    "plt.scatter(y_test[Pd_mask], y_pred[Pd_mask], alpha=0.1, s = 10, label = \"Pd\", color='blue')\n",
    "plt.scatter(y_test[Pt_mask], y_pred[Pt_mask], alpha=0.1, s = 10, label = \"Pt\", color='green')\n",
    "\n",
    "plt.plot([-20, 10000],[-20, 10000], color='red')\n",
    "plt.plot([-20, 10000], [-200, 100000], color='blue')\n",
    "plt.plot([-20, 10000], [-2, 1000], color='blue')\n",
    "\n",
    "\n",
    "plt.xlabel('Actual TOF (mol $H_2$/mol Metal*sec)')\n",
    "plt.ylabel('Predicted TOF (mol $H_2$/mol Metal*sec)')\n",
    "\n",
    "axes = plt.gca()\n",
    "axes.set_xlim([10**-3, 10**3.5])\n",
    "axes.set_ylim([10**-3, 10**3.5])\n",
    "axes.set_aspect('equal', 'box')\n",
    "plt.grid()\n",
    "\n",
    "axes.legend()\n",
    "\n",
    "# make axes logarithmic\n",
    "axes.set_xscale('log')\n",
    "axes.set_yscale('log')"
   ]
  },
  {
   "cell_type": "code",
   "execution_count": null,
   "metadata": {},
   "outputs": [],
   "source": [
    "surrogate.write_to_json('models/nanoparticle_surrogate.json')"
   ]
  }
 ],
 "metadata": {
  "kernelspec": {
   "display_name": "base",
   "language": "python",
   "name": "python3"
  },
  "language_info": {
   "codemirror_mode": {
    "name": "ipython",
    "version": 3
   },
   "file_extension": ".py",
   "mimetype": "text/x-python",
   "name": "python",
   "nbconvert_exporter": "python",
   "pygments_lexer": "ipython3",
   "version": "3.9.15"
  }
 },
 "nbformat": 4,
 "nbformat_minor": 2
}
