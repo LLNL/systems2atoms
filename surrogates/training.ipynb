{
 "cells": [
  {
   "cell_type": "code",
   "execution_count": 1,
   "metadata": {},
   "outputs": [],
   "source": [
    "import pandas as pd\n",
    "import numpy as np\n",
    "import matplotlib.pyplot as plt\n",
    "\n",
    "from matplotlib.ticker import ScalarFormatter, NullFormatter\n",
    "from sklearn.linear_model import LinearRegression\n",
    "\n",
    "from lineartree import LinearTreeRegressor"
   ]
  },
  {
   "cell_type": "markdown",
   "metadata": {},
   "source": [
    "# Component Model Surrogate"
   ]
  },
  {
   "cell_type": "code",
   "execution_count": 2,
   "metadata": {},
   "outputs": [],
   "source": [
    "df = pd.read_csv('data/component_data_100000.csv')\n",
    "mask = np.random.rand(len(df)) < 0.8\n",
    "df_train, df_test = df[mask], df[~mask]\n",
    "\n",
    "inputs = ['VCSTR', 'ν', 'ξ', 'TOF', 'mol_metal']\n",
    "outputs = ['H2Yield']\n",
    "dfin = df_train[inputs]\n",
    "dfout = df_train[outputs]\n",
    "\n",
    "x = dfin.values\n",
    "y = dfout.values"
   ]
  },
  {
   "cell_type": "code",
   "execution_count": 5,
   "metadata": {},
   "outputs": [
    {
     "ename": "KeyboardInterrupt",
     "evalue": "",
     "output_type": "error",
     "traceback": [
      "\u001b[0;31m---------------------------------------------------------------------------\u001b[0m",
      "\u001b[0;31mKeyboardInterrupt\u001b[0m                         Traceback (most recent call last)",
      "Cell \u001b[0;32mIn[5], line 8\u001b[0m\n\u001b[1;32m      1\u001b[0m component_surrogate \u001b[38;5;241m=\u001b[39m LinearTreeRegressor(\n\u001b[1;32m      2\u001b[0m     max_depth \u001b[38;5;241m=\u001b[39m \u001b[38;5;241m20\u001b[39m,\n\u001b[1;32m      3\u001b[0m     min_samples_leaf \u001b[38;5;241m=\u001b[39m \u001b[38;5;241m0.01\u001b[39m,\n\u001b[0;32m   (...)\u001b[0m\n\u001b[1;32m      6\u001b[0m     criterion \u001b[38;5;241m=\u001b[39m \u001b[38;5;124m'\u001b[39m\u001b[38;5;124mmae\u001b[39m\u001b[38;5;124m'\u001b[39m\n\u001b[1;32m      7\u001b[0m )\n\u001b[0;32m----> 8\u001b[0m \u001b[43mcomponent_surrogate\u001b[49m\u001b[38;5;241;43m.\u001b[39;49m\u001b[43mfit\u001b[49m\u001b[43m(\u001b[49m\u001b[43mx\u001b[49m\u001b[43m,\u001b[49m\u001b[43m \u001b[49m\u001b[43my\u001b[49m\u001b[43m)\u001b[49m\n\u001b[1;32m     10\u001b[0m \u001b[38;5;28mprint\u001b[39m(component_surrogate\u001b[38;5;241m.\u001b[39mfeature_importances_)\n\u001b[1;32m     11\u001b[0m \u001b[38;5;28mprint\u001b[39m(\u001b[38;5;28mlen\u001b[39m(component_surrogate\u001b[38;5;241m.\u001b[39m_leaves))\n",
      "File \u001b[0;32m/opt/conda/lib/python3.9/site-packages/lineartree/lineartree.py:195\u001b[0m, in \u001b[0;36mLinearTreeRegressor.fit\u001b[0;34m(self, X, y, sample_weight, live_printing)\u001b[0m\n\u001b[1;32m    193\u001b[0m \u001b[38;5;28;01mif\u001b[39;00m \u001b[38;5;28mself\u001b[39m\u001b[38;5;241m.\u001b[39mn_targets_ \u001b[38;5;241m<\u001b[39m \u001b[38;5;241m2\u001b[39m:\n\u001b[1;32m    194\u001b[0m     y \u001b[38;5;241m=\u001b[39m y\u001b[38;5;241m.\u001b[39mravel()\n\u001b[0;32m--> 195\u001b[0m \u001b[38;5;28;43mself\u001b[39;49m\u001b[38;5;241;43m.\u001b[39;49m\u001b[43m_fit\u001b[49m\u001b[43m(\u001b[49m\u001b[43mX\u001b[49m\u001b[43m,\u001b[49m\u001b[43m \u001b[49m\u001b[43my\u001b[49m\u001b[43m,\u001b[49m\u001b[43m \u001b[49m\u001b[43msample_weight\u001b[49m\u001b[43m,\u001b[49m\u001b[43m \u001b[49m\u001b[43mlive_printing\u001b[49m\u001b[38;5;241;43m=\u001b[39;49m\u001b[43mlive_printing\u001b[49m\u001b[43m)\u001b[49m\n\u001b[1;32m    197\u001b[0m \u001b[38;5;28;01mreturn\u001b[39;00m \u001b[38;5;28mself\u001b[39m\n",
      "File \u001b[0;32m/opt/conda/lib/python3.9/site-packages/lineartree/_classes.py:574\u001b[0m, in \u001b[0;36m_LinearTree._fit\u001b[0;34m(self, X, y, sample_weight, live_printing)\u001b[0m\n\u001b[1;32m    571\u001b[0m     linear_features \u001b[38;5;241m=\u001b[39m np\u001b[38;5;241m.\u001b[39msetdiff1d(np\u001b[38;5;241m.\u001b[39marange(n_feat), cat_features)\n\u001b[1;32m    572\u001b[0m \u001b[38;5;28mself\u001b[39m\u001b[38;5;241m.\u001b[39m_linear_features \u001b[38;5;241m=\u001b[39m linear_features\n\u001b[0;32m--> 574\u001b[0m \u001b[38;5;28;43mself\u001b[39;49m\u001b[38;5;241;43m.\u001b[39;49m\u001b[43m_grow\u001b[49m\u001b[43m(\u001b[49m\u001b[43mX\u001b[49m\u001b[43m,\u001b[49m\u001b[43m \u001b[49m\u001b[43my\u001b[49m\u001b[43m,\u001b[49m\u001b[43m \u001b[49m\u001b[43msample_weight\u001b[49m\u001b[43m)\u001b[49m\n\u001b[1;32m    576\u001b[0m normalizer \u001b[38;5;241m=\u001b[39m np\u001b[38;5;241m.\u001b[39msum(\u001b[38;5;28mself\u001b[39m\u001b[38;5;241m.\u001b[39mfeature_importances_)\n\u001b[1;32m    577\u001b[0m \u001b[38;5;28;01mif\u001b[39;00m normalizer \u001b[38;5;241m>\u001b[39m \u001b[38;5;241m0\u001b[39m:\n",
      "File \u001b[0;32m/opt/conda/lib/python3.9/site-packages/lineartree/_classes.py:385\u001b[0m, in \u001b[0;36m_LinearTree._grow\u001b[0;34m(self, X, y, weights)\u001b[0m\n\u001b[1;32m    382\u001b[0m \u001b[38;5;28;01mwhile\u001b[39;00m \u001b[38;5;28mlen\u001b[39m(queue) \u001b[38;5;241m>\u001b[39m \u001b[38;5;241m0\u001b[39m:\n\u001b[1;32m    384\u001b[0m     \u001b[38;5;28;01mif\u001b[39;00m weights \u001b[38;5;129;01mis\u001b[39;00m \u001b[38;5;28;01mNone\u001b[39;00m:\n\u001b[0;32m--> 385\u001b[0m         split_t, split_col, left_node, right_node \u001b[38;5;241m=\u001b[39m \u001b[38;5;28;43mself\u001b[39;49m\u001b[38;5;241;43m.\u001b[39;49m\u001b[43m_split\u001b[49m\u001b[43m(\u001b[49m\n\u001b[1;32m    386\u001b[0m \u001b[43m            \u001b[49m\u001b[43mX\u001b[49m\u001b[43m[\u001b[49m\u001b[43mmask\u001b[49m\u001b[43m]\u001b[49m\u001b[43m,\u001b[49m\u001b[43m \u001b[49m\u001b[43my\u001b[49m\u001b[43m[\u001b[49m\u001b[43mmask\u001b[49m\u001b[43m]\u001b[49m\u001b[43m,\u001b[49m\u001b[43m \u001b[49m\u001b[43mbins\u001b[49m\u001b[43m,\u001b[49m\n\u001b[1;32m    387\u001b[0m \u001b[43m            \u001b[49m\u001b[43msupport_sample_weight\u001b[49m\u001b[43m,\u001b[49m\n\u001b[1;32m    388\u001b[0m \u001b[43m            \u001b[49m\u001b[43mloss\u001b[49m\u001b[38;5;241;43m=\u001b[39;49m\u001b[43mloss\u001b[49m\u001b[43m)\u001b[49m\n\u001b[1;32m    389\u001b[0m     \u001b[38;5;28;01melse\u001b[39;00m:\n\u001b[1;32m    390\u001b[0m         split_t, split_col, left_node, right_node \u001b[38;5;241m=\u001b[39m \u001b[38;5;28mself\u001b[39m\u001b[38;5;241m.\u001b[39m_split(\n\u001b[1;32m    391\u001b[0m             X[mask], y[mask], bins,\n\u001b[1;32m    392\u001b[0m             support_sample_weight, weights[mask],\n\u001b[1;32m    393\u001b[0m             loss\u001b[38;5;241m=\u001b[39mloss)\n",
      "File \u001b[0;32m/opt/conda/lib/python3.9/site-packages/lineartree/_classes.py:277\u001b[0m, in \u001b[0;36m_LinearTree._split\u001b[0;34m(self, X, y, bins, support_sample_weight, weights, loss)\u001b[0m\n\u001b[1;32m    274\u001b[0m n_jobs, split_feat \u001b[38;5;241m=\u001b[39m _partition_columns(\u001b[38;5;28mself\u001b[39m\u001b[38;5;241m.\u001b[39m_split_features, \u001b[38;5;28mself\u001b[39m\u001b[38;5;241m.\u001b[39mn_jobs)\n\u001b[1;32m    276\u001b[0m \u001b[38;5;66;03m# partition columns splittings between jobs\u001b[39;00m\n\u001b[0;32m--> 277\u001b[0m all_results \u001b[38;5;241m=\u001b[39m \u001b[43mParallel\u001b[49m\u001b[43m(\u001b[49m\u001b[43mn_jobs\u001b[49m\u001b[38;5;241;43m=\u001b[39;49m\u001b[43mn_jobs\u001b[49m\u001b[43m,\u001b[49m\u001b[43m \u001b[49m\u001b[43mverbose\u001b[49m\u001b[38;5;241;43m=\u001b[39;49m\u001b[38;5;241;43m0\u001b[39;49m\u001b[43m,\u001b[49m\n\u001b[1;32m    278\u001b[0m \u001b[43m                       \u001b[49m\u001b[38;5;241;43m*\u001b[39;49m\u001b[38;5;241;43m*\u001b[39;49m\u001b[38;5;28;43mself\u001b[39;49m\u001b[38;5;241;43m.\u001b[39;49m\u001b[43m_parallel_args\u001b[49m\u001b[43m(\u001b[49m\u001b[43m)\u001b[49m\u001b[43m)\u001b[49m\u001b[43m(\u001b[49m\n\u001b[1;32m    279\u001b[0m \u001b[43m    \u001b[49m\u001b[43mdelayed\u001b[49m\u001b[43m(\u001b[49m\u001b[43m_parallel_binning_fit\u001b[49m\u001b[43m)\u001b[49m\u001b[43m(\u001b[49m\n\u001b[1;32m    280\u001b[0m \u001b[43m        \u001b[49m\u001b[43mfeat\u001b[49m\u001b[43m,\u001b[49m\n\u001b[1;32m    281\u001b[0m \u001b[43m        \u001b[49m\u001b[38;5;28;43mself\u001b[39;49m\u001b[43m,\u001b[49m\u001b[43m \u001b[49m\u001b[43mX\u001b[49m\u001b[43m,\u001b[49m\u001b[43m \u001b[49m\u001b[43my\u001b[49m\u001b[43m,\u001b[49m\n\u001b[1;32m    282\u001b[0m \u001b[43m        \u001b[49m\u001b[43mweights\u001b[49m\u001b[43m,\u001b[49m\u001b[43m \u001b[49m\u001b[43msupport_sample_weight\u001b[49m\u001b[43m,\u001b[49m\n\u001b[1;32m    283\u001b[0m \u001b[43m        \u001b[49m\u001b[43m[\u001b[49m\u001b[43mbins\u001b[49m\u001b[43m[\u001b[49m\u001b[43mi\u001b[49m\u001b[43m]\u001b[49m\u001b[43m \u001b[49m\u001b[38;5;28;43;01mfor\u001b[39;49;00m\u001b[43m \u001b[49m\u001b[43mi\u001b[49m\u001b[43m \u001b[49m\u001b[38;5;129;43;01min\u001b[39;49;00m\u001b[43m \u001b[49m\u001b[43mfeat\u001b[49m\u001b[43m]\u001b[49m\u001b[43m,\u001b[49m\n\u001b[1;32m    284\u001b[0m \u001b[43m        \u001b[49m\u001b[43mloss\u001b[49m\n\u001b[1;32m    285\u001b[0m \u001b[43m    \u001b[49m\u001b[43m)\u001b[49m\n\u001b[1;32m    286\u001b[0m \u001b[43m    \u001b[49m\u001b[38;5;28;43;01mfor\u001b[39;49;00m\u001b[43m \u001b[49m\u001b[43mfeat\u001b[49m\u001b[43m \u001b[49m\u001b[38;5;129;43;01min\u001b[39;49;00m\u001b[43m \u001b[49m\u001b[43msplit_feat\u001b[49m\u001b[43m)\u001b[49m\n\u001b[1;32m    288\u001b[0m \u001b[38;5;66;03m# extract results from parallel loops\u001b[39;00m\n\u001b[1;32m    289\u001b[0m _losses, split_t, split_col \u001b[38;5;241m=\u001b[39m [], [], []\n",
      "File \u001b[0;32m/opt/conda/lib/python3.9/site-packages/joblib/parallel.py:1098\u001b[0m, in \u001b[0;36mParallel.__call__\u001b[0;34m(self, iterable)\u001b[0m\n\u001b[1;32m   1095\u001b[0m     \u001b[38;5;28mself\u001b[39m\u001b[38;5;241m.\u001b[39m_iterating \u001b[38;5;241m=\u001b[39m \u001b[38;5;28;01mFalse\u001b[39;00m\n\u001b[1;32m   1097\u001b[0m \u001b[38;5;28;01mwith\u001b[39;00m \u001b[38;5;28mself\u001b[39m\u001b[38;5;241m.\u001b[39m_backend\u001b[38;5;241m.\u001b[39mretrieval_context():\n\u001b[0;32m-> 1098\u001b[0m     \u001b[38;5;28;43mself\u001b[39;49m\u001b[38;5;241;43m.\u001b[39;49m\u001b[43mretrieve\u001b[49m\u001b[43m(\u001b[49m\u001b[43m)\u001b[49m\n\u001b[1;32m   1099\u001b[0m \u001b[38;5;66;03m# Make sure that we get a last message telling us we are done\u001b[39;00m\n\u001b[1;32m   1100\u001b[0m elapsed_time \u001b[38;5;241m=\u001b[39m time\u001b[38;5;241m.\u001b[39mtime() \u001b[38;5;241m-\u001b[39m \u001b[38;5;28mself\u001b[39m\u001b[38;5;241m.\u001b[39m_start_time\n",
      "File \u001b[0;32m/opt/conda/lib/python3.9/site-packages/joblib/parallel.py:975\u001b[0m, in \u001b[0;36mParallel.retrieve\u001b[0;34m(self)\u001b[0m\n\u001b[1;32m    973\u001b[0m \u001b[38;5;28;01mtry\u001b[39;00m:\n\u001b[1;32m    974\u001b[0m     \u001b[38;5;28;01mif\u001b[39;00m \u001b[38;5;28mgetattr\u001b[39m(\u001b[38;5;28mself\u001b[39m\u001b[38;5;241m.\u001b[39m_backend, \u001b[38;5;124m'\u001b[39m\u001b[38;5;124msupports_timeout\u001b[39m\u001b[38;5;124m'\u001b[39m, \u001b[38;5;28;01mFalse\u001b[39;00m):\n\u001b[0;32m--> 975\u001b[0m         \u001b[38;5;28mself\u001b[39m\u001b[38;5;241m.\u001b[39m_output\u001b[38;5;241m.\u001b[39mextend(\u001b[43mjob\u001b[49m\u001b[38;5;241;43m.\u001b[39;49m\u001b[43mget\u001b[49m\u001b[43m(\u001b[49m\u001b[43mtimeout\u001b[49m\u001b[38;5;241;43m=\u001b[39;49m\u001b[38;5;28;43mself\u001b[39;49m\u001b[38;5;241;43m.\u001b[39;49m\u001b[43mtimeout\u001b[49m\u001b[43m)\u001b[49m)\n\u001b[1;32m    976\u001b[0m     \u001b[38;5;28;01melse\u001b[39;00m:\n\u001b[1;32m    977\u001b[0m         \u001b[38;5;28mself\u001b[39m\u001b[38;5;241m.\u001b[39m_output\u001b[38;5;241m.\u001b[39mextend(job\u001b[38;5;241m.\u001b[39mget())\n",
      "File \u001b[0;32m/opt/conda/lib/python3.9/site-packages/joblib/_parallel_backends.py:567\u001b[0m, in \u001b[0;36mLokyBackend.wrap_future_result\u001b[0;34m(future, timeout)\u001b[0m\n\u001b[1;32m    564\u001b[0m \u001b[38;5;250m\u001b[39m\u001b[38;5;124;03m\"\"\"Wrapper for Future.result to implement the same behaviour as\u001b[39;00m\n\u001b[1;32m    565\u001b[0m \u001b[38;5;124;03mAsyncResults.get from multiprocessing.\"\"\"\u001b[39;00m\n\u001b[1;32m    566\u001b[0m \u001b[38;5;28;01mtry\u001b[39;00m:\n\u001b[0;32m--> 567\u001b[0m     \u001b[38;5;28;01mreturn\u001b[39;00m \u001b[43mfuture\u001b[49m\u001b[38;5;241;43m.\u001b[39;49m\u001b[43mresult\u001b[49m\u001b[43m(\u001b[49m\u001b[43mtimeout\u001b[49m\u001b[38;5;241;43m=\u001b[39;49m\u001b[43mtimeout\u001b[49m\u001b[43m)\u001b[49m\n\u001b[1;32m    568\u001b[0m \u001b[38;5;28;01mexcept\u001b[39;00m CfTimeoutError \u001b[38;5;28;01mas\u001b[39;00m e:\n\u001b[1;32m    569\u001b[0m     \u001b[38;5;28;01mraise\u001b[39;00m \u001b[38;5;167;01mTimeoutError\u001b[39;00m \u001b[38;5;28;01mfrom\u001b[39;00m \u001b[38;5;21;01me\u001b[39;00m\n",
      "File \u001b[0;32m/opt/conda/lib/python3.9/concurrent/futures/_base.py:441\u001b[0m, in \u001b[0;36mFuture.result\u001b[0;34m(self, timeout)\u001b[0m\n\u001b[1;32m    438\u001b[0m \u001b[38;5;28;01melif\u001b[39;00m \u001b[38;5;28mself\u001b[39m\u001b[38;5;241m.\u001b[39m_state \u001b[38;5;241m==\u001b[39m FINISHED:\n\u001b[1;32m    439\u001b[0m     \u001b[38;5;28;01mreturn\u001b[39;00m \u001b[38;5;28mself\u001b[39m\u001b[38;5;241m.\u001b[39m__get_result()\n\u001b[0;32m--> 441\u001b[0m \u001b[38;5;28;43mself\u001b[39;49m\u001b[38;5;241;43m.\u001b[39;49m\u001b[43m_condition\u001b[49m\u001b[38;5;241;43m.\u001b[39;49m\u001b[43mwait\u001b[49m\u001b[43m(\u001b[49m\u001b[43mtimeout\u001b[49m\u001b[43m)\u001b[49m\n\u001b[1;32m    443\u001b[0m \u001b[38;5;28;01mif\u001b[39;00m \u001b[38;5;28mself\u001b[39m\u001b[38;5;241m.\u001b[39m_state \u001b[38;5;129;01min\u001b[39;00m [CANCELLED, CANCELLED_AND_NOTIFIED]:\n\u001b[1;32m    444\u001b[0m     \u001b[38;5;28;01mraise\u001b[39;00m CancelledError()\n",
      "File \u001b[0;32m/opt/conda/lib/python3.9/threading.py:312\u001b[0m, in \u001b[0;36mCondition.wait\u001b[0;34m(self, timeout)\u001b[0m\n\u001b[1;32m    310\u001b[0m \u001b[38;5;28;01mtry\u001b[39;00m:    \u001b[38;5;66;03m# restore state no matter what (e.g., KeyboardInterrupt)\u001b[39;00m\n\u001b[1;32m    311\u001b[0m     \u001b[38;5;28;01mif\u001b[39;00m timeout \u001b[38;5;129;01mis\u001b[39;00m \u001b[38;5;28;01mNone\u001b[39;00m:\n\u001b[0;32m--> 312\u001b[0m         \u001b[43mwaiter\u001b[49m\u001b[38;5;241;43m.\u001b[39;49m\u001b[43macquire\u001b[49m\u001b[43m(\u001b[49m\u001b[43m)\u001b[49m\n\u001b[1;32m    313\u001b[0m         gotit \u001b[38;5;241m=\u001b[39m \u001b[38;5;28;01mTrue\u001b[39;00m\n\u001b[1;32m    314\u001b[0m     \u001b[38;5;28;01melse\u001b[39;00m:\n",
      "\u001b[0;31mKeyboardInterrupt\u001b[0m: "
     ]
    }
   ],
   "source": [
    "component_surrogate = LinearTreeRegressor(\n",
    "    max_depth = 20,\n",
    "    min_samples_leaf = 0.01,\n",
    "    base_estimator = LinearRegression(),\n",
    "    n_jobs = 16,\n",
    "    criterion = 'mae'\n",
    ")\n",
    "component_surrogate.fit(x, y)\n",
    "\n",
    "print(component_surrogate.feature_importances_)\n",
    "print(len(component_surrogate._leaves))"
   ]
  },
  {
   "cell_type": "code",
   "execution_count": null,
   "metadata": {},
   "outputs": [],
   "source": [
    "component_surrogate.plot_model()"
   ]
  },
  {
   "cell_type": "code",
   "execution_count": null,
   "metadata": {},
   "outputs": [],
   "source": [
    "x_test = df_test[inputs].values\n",
    "\n",
    "y_pred = component_surrogate.predict(x_test)\n",
    "y_test = df_test[outputs].values\n",
    "\n",
    "plt.figure(dpi=200)\n",
    "\n",
    "plt.scatter(y_test, y_pred, alpha=0.1, s = 10, color='blue')\n",
    "\n",
    "plt.plot([-20, 10000],[-20, 10000], color='red')\n",
    "\n",
    "\n",
    "plt.xlabel('Actual yield (mol $H_2$/mol Metal*sec)')\n",
    "plt.ylabel('Predicted yield (mol $H_2$/mol Metal*sec)')\n",
    "\n",
    "axes = plt.gca()\n",
    "axes.set_xlim([0, 1.2])\n",
    "axes.set_ylim([0, 1.2])\n",
    "axes.set_aspect('equal', 'box')\n",
    "plt.grid()"
   ]
  },
  {
   "cell_type": "code",
   "execution_count": null,
   "metadata": {},
   "outputs": [],
   "source": [
    "component_surrogate.write_to_json('models/component_surrogate.json')"
   ]
  },
  {
   "cell_type": "markdown",
   "metadata": {},
   "source": [
    "# Costing Model Surrogate"
   ]
  },
  {
   "cell_type": "code",
   "execution_count": null,
   "metadata": {},
   "outputs": [],
   "source": [
    "df = pd.read_csv('data/cost_data_100000.csv')\n",
    "mask = np.random.rand(len(df)) < 0.8\n",
    "df_train, df_test = df[mask], df[~mask]\n",
    "\n",
    "inputs = ['VCSTR', 'StationCapacity', 'CatalystMass', 'H2Yield', 'Temperature', 'Pressure', 'CatalystPrice']\n",
    "outputs = ['Cost']\n",
    "dfin = df_train[inputs]\n",
    "dfout = df_train[outputs]\n",
    "\n",
    "x = dfin.values\n",
    "y = dfout.values"
   ]
  },
  {
   "cell_type": "code",
   "execution_count": null,
   "metadata": {},
   "outputs": [],
   "source": [
    "costing_surrogate = LinearTreeRegressor(\n",
    "    max_depth = 20,\n",
    "    min_samples_leaf = 0.003,\n",
    "    base_estimator = LinearRegression(),\n",
    "    n_jobs = 16,\n",
    "    criterion = 'msle'\n",
    ")\n",
    "costing_surrogate.fit(x, y)\n",
    "\n",
    "print(component_surrogate.feature_importances_)\n",
    "print(len(component_surrogate._leaves))"
   ]
  },
  {
   "cell_type": "code",
   "execution_count": null,
   "metadata": {},
   "outputs": [],
   "source": [
    "x_test = df_test[inputs].values\n",
    "y_pred = costing_surrogate.predict(x_test)\n",
    "y_test = df_test[outputs].values\n",
    "\n",
    "# set dpi to 300\n",
    "plt.figure(dpi=300)\n",
    "plt.scatter(y_test, y_pred, alpha=0.1, s = 10, color = 'blue')\n",
    "plt.plot([0,300],[0,300], color='red')\n",
    "plt.xlabel('Actual Cost (\\$/kg $H_2$)')\n",
    "plt.ylabel('Predicted Cost (\\$/kg $H_2$)')\n",
    "\n",
    "axes = plt.gca()\n",
    "axes.set_xlim([10,250])\n",
    "axes.set_ylim([10,250])\n",
    "axes.set_aspect('equal', 'box')\n",
    "\n",
    "# make axes logarithmic\n",
    "axes.set_xscale('log')\n",
    "axes.set_yscale('log')\n",
    "\n",
    "# Label the major and minor ticks\n",
    "axes.xaxis.set_major_formatter(ScalarFormatter())\n",
    "axes.xaxis.set_minor_formatter(ScalarFormatter())\n",
    "axes.yaxis.set_major_formatter(ScalarFormatter())\n",
    "axes.yaxis.set_minor_formatter(ScalarFormatter())\n",
    "\n",
    "# Rotate x tick labels 90 degrees\n",
    "plt.xticks(rotation=270)\n",
    "plt.setp(axes.xaxis.get_minorticklabels(), rotation=270)\n",
    "\n",
    "plt.grid(True, which=\"both\", ls=\"-\")\n",
    "plt.show()\n"
   ]
  },
  {
   "cell_type": "code",
   "execution_count": null,
   "metadata": {},
   "outputs": [],
   "source": [
    "costing_surrogate.write_to_json('models/costing_surrogate.json')"
   ]
  },
  {
   "cell_type": "markdown",
   "metadata": {},
   "source": [
    "# Nanoparticle Model Surrogate"
   ]
  },
  {
   "cell_type": "code",
   "execution_count": null,
   "metadata": {},
   "outputs": [],
   "source": [
    "df = pd.read_csv('data/combined-nanoparticle-data.csv')\n",
    "\n",
    "df['is_Pd'] = df['Metal'].str.contains('Pd').astype(int)\n",
    "df['is_Cu'] = df['Metal'].str.contains('Cu').astype(int)\n",
    "df['is_Pt'] = df['Metal'].str.contains('Pt').astype(int)\n",
    "\n",
    "df['Metal_int'] = df['Metal'].map({'Pd': 0, 'Cu': 1, 'Pt': 2})"
   ]
  },
  {
   "cell_type": "code",
   "execution_count": null,
   "metadata": {},
   "outputs": [
    {
     "ename": "NameError",
     "evalue": "name 'df' is not defined",
     "output_type": "error",
     "traceback": [
      "\u001b[0;31m---------------------------------------------------------------------------\u001b[0m",
      "\u001b[0;31mNameError\u001b[0m                                 Traceback (most recent call last)",
      "Cell \u001b[0;32mIn[1], line 1\u001b[0m\n\u001b[0;32m----> 1\u001b[0m \u001b[43mdf\u001b[49m\u001b[38;5;241m.\u001b[39mhead()\n",
      "\u001b[0;31mNameError\u001b[0m: name 'df' is not defined"
     ]
    }
   ],
   "source": [
    "df.head()"
   ]
  },
  {
   "cell_type": "code",
   "execution_count": null,
   "metadata": {},
   "outputs": [],
   "source": [
    "inputs = ['Metal_int', 'T_value (K)', 'P_value (bar)', 'Nanoparticle Diameter (nm)']\n",
    "\n",
    "outputs = ['TOF_Data (mol H2/mol Pd*sec)']\n",
    "\n",
    "Cu_mask = df['is_Cu'] == 1\n",
    "Pd_mask = df['is_Pd'] == 1\n",
    "Pt_mask = df['is_Pt'] == 1\n",
    "\n",
    "df = df[(df['Nanoparticle Diameter (nm)'] == 3) | (df['Nanoparticle Diameter (nm)'] == 4) | (df['Nanoparticle Diameter (nm)'] == 5)]\n",
    "\n",
    "\n",
    "dfin = df[inputs]\n",
    "dfout = df[outputs]\n",
    "\n",
    "x = dfin.values\n",
    "y = dfout.values"
   ]
  },
  {
   "cell_type": "code",
   "execution_count": null,
   "metadata": {},
   "outputs": [],
   "source": [
    "surrogate = LinearTreeRegressor(\n",
    "    max_depth = 12,\n",
    "    base_estimator=LinearRegression(),\n",
    "    criterion='msle',\n",
    "    min_samples_leaf = 10,\n",
    "    )\n",
    "surrogate.fit(x, y)"
   ]
  },
  {
   "cell_type": "code",
   "execution_count": null,
   "metadata": {},
   "outputs": [],
   "source": [
    "x_test = x\n",
    "\n",
    "\n",
    "y_pred = surrogate.predict(x_test)\n",
    "y_test = y\n",
    "\n",
    "plt.figure(dpi=300)\n",
    "\n",
    "plt.scatter(y_test[Cu_mask], y_pred[Cu_mask], alpha=0.1, s = 10, label = \"Cu\", color='red')\n",
    "plt.scatter(y_test[Pd_mask], y_pred[Pd_mask], alpha=0.1, s = 10, label = \"Pd\", color='blue')\n",
    "plt.scatter(y_test[Pt_mask], y_pred[Pt_mask], alpha=0.1, s = 10, label = \"Pt\", color='green')\n",
    "\n",
    "plt.plot([-20, 10000],[-20, 10000], color='red')\n",
    "plt.plot([-20, 10000], [-200, 100000], color='blue')\n",
    "plt.plot([-20, 10000], [-2, 1000], color='blue')\n",
    "\n",
    "\n",
    "plt.xlabel('Actual TOF (mol $H_2$/mol Metal*sec)')\n",
    "plt.ylabel('Predicted TOF (mol $H_2$/mol Metal*sec)')\n",
    "\n",
    "axes = plt.gca()\n",
    "axes.set_xlim([10**-3, 10**3.5])\n",
    "axes.set_ylim([10**-3, 10**3.5])\n",
    "axes.set_aspect('equal', 'box')\n",
    "plt.grid()\n",
    "\n",
    "axes.legend()\n",
    "\n",
    "# make axes logarithmic\n",
    "axes.set_xscale('log')\n",
    "axes.set_yscale('log')"
   ]
  },
  {
   "cell_type": "code",
   "execution_count": null,
   "metadata": {},
   "outputs": [],
   "source": [
    "surrogate.write_to_json('models/nanoparticle_surrogate.json')"
   ]
  }
 ],
 "metadata": {
  "kernelspec": {
   "display_name": "base",
   "language": "python",
   "name": "python3"
  },
  "language_info": {
   "codemirror_mode": {
    "name": "ipython",
    "version": 3
   },
   "file_extension": ".py",
   "mimetype": "text/x-python",
   "name": "python",
   "nbconvert_exporter": "python",
   "pygments_lexer": "ipython3",
   "version": "3.9.15"
  }
 },
 "nbformat": 4,
 "nbformat_minor": 2
}
