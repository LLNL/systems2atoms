{
 "cells": [
  {
   "cell_type": "markdown",
   "id": "1c0d5b60",
   "metadata": {},
   "source": [
    "## Run \"MuMo-CoCo\" Excel CO<sub>2</sub> transportation cost model"
   ]
  },
  {
   "cell_type": "markdown",
   "id": "ac8499ce",
   "metadata": {},
   "source": [
    "https://docs.xlwings.org/en/stable/quickstart.html"
   ]
  },
  {
   "cell_type": "markdown",
   "id": "76f99717",
   "metadata": {},
   "source": [
    "### import modules"
   ]
  },
  {
   "cell_type": "code",
   "execution_count": null,
   "id": "4e05ea92",
   "metadata": {},
   "outputs": [],
   "source": [
    "import numpy as np\n",
    "import pandas as pd\n",
    "import xlwings as xw"
   ]
  },
  {
   "cell_type": "markdown",
   "id": "2dee5e27",
   "metadata": {},
   "source": [
    "### constants"
   ]
  },
  {
   "cell_type": "code",
   "execution_count": null,
   "id": "87f95016",
   "metadata": {},
   "outputs": [],
   "source": [
    "# molar mass (kg/kmol)\n",
    "molar_mass_H2_kg_per_kmol = 2.016\n",
    "molar_mass_CO2_kg_per_kmol = 44.009\n",
    "\n",
    "# stoichiometric ratio (mol/mol)\n",
    "stoic_mol_H2_per_mol_CO2 = 1.0\n",
    "\n",
    "# kg per tonne\n",
    "kg_per_tonne = 1000.0\n",
    "\n",
    "# tonnes per kt\n",
    "tonne_per_kt = 1000.0\n",
    "\n",
    "# days per year\n",
    "# implicit assumption: 100% capacity factor\n",
    "day_per_yr = 365.0"
   ]
  },
  {
   "cell_type": "markdown",
   "id": "d3137598",
   "metadata": {},
   "source": [
    "### user input"
   ]
  },
  {
   "cell_type": "code",
   "execution_count": null,
   "id": "029e44ea",
   "metadata": {},
   "outputs": [],
   "source": [
    "# average inflation rate \n",
    "# used in the CO2 transportation model\n",
    "avg_infl = 0.023\n",
    "\n",
    "# output dollar year\n",
    "output_dollar_year = 2022"
   ]
  },
  {
   "cell_type": "code",
   "execution_count": null,
   "id": "4a9bb5b0",
   "metadata": {},
   "outputs": [],
   "source": [
    "# hydrogen refueling station capacity (kg H2/day)\n",
    "stn_cap_kg_H2_per_day = np.concatenate((\n",
    "    np.arange(50, 1000, 50),\n",
    "    np.arange(1000, 2501, 100)\n",
    "))\n",
    "\n",
    "stn_cap_kg_H2_per_day"
   ]
  },
  {
   "cell_type": "code",
   "execution_count": null,
   "id": "98e4a89c",
   "metadata": {},
   "outputs": [],
   "source": [
    "# transport distance (mile)\n",
    "distance_mi = np.concatenate((\n",
    "    np.arange(10, 100, 10),\n",
    "    np.arange(100, 1001, 100)\n",
    "))\n",
    "\n",
    "distance_mi"
   ]
  },
  {
   "cell_type": "markdown",
   "id": "e2fc0b1c",
   "metadata": {},
   "source": [
    "### calculations"
   ]
  },
  {
   "cell_type": "code",
   "execution_count": null,
   "id": "6e4ea8db",
   "metadata": {},
   "outputs": [],
   "source": [
    "# calculate CO2 flowrate to recycle (ktCO2/yr)\n",
    "# assuming perfect reactions, no losses, etc.\n",
    "size_kt_co2_per_yr = stn_cap_kg_H2_per_day * day_per_yr * \\\n",
    "    molar_mass_CO2_kg_per_kmol / molar_mass_H2_kg_per_kmol / \\\n",
    "    stoic_mol_H2_per_mol_CO2 / kg_per_tonne / tonne_per_kt\n",
    "\n",
    "size_kt_co2_per_yr"
   ]
  },
  {
   "cell_type": "markdown",
   "id": "6f0aef39",
   "metadata": {},
   "source": [
    "### run model and write output"
   ]
  },
  {
   "cell_type": "code",
   "execution_count": null,
   "id": "550d27f1",
   "metadata": {},
   "outputs": [],
   "source": [
    "# create lists\n",
    "list_input_values = []\n",
    "list_gross_costs = []"
   ]
  },
  {
   "cell_type": "code",
   "execution_count": null,
   "id": "8321fbda",
   "metadata": {},
   "outputs": [],
   "source": [
    "# open workbook \n",
    "wb = xw.Book('MuMo-CoCo_v0_S2A.xlsm')\n",
    "\n",
    "# instantiate \"user interface\" sheet\n",
    "ui = wb.sheets['User Interface']"
   ]
  },
  {
   "cell_type": "code",
   "execution_count": null,
   "id": "c916be9f",
   "metadata": {},
   "outputs": [],
   "source": [
    "# update number format\n",
    "ui['F6:F9'].number_format = 'general'"
   ]
  },
  {
   "cell_type": "code",
   "execution_count": null,
   "id": "43cd45b5",
   "metadata": {},
   "outputs": [],
   "source": [
    "# calculate conversion (multiplier) from input dollar year to \n",
    "# output dollar year\n",
    "dollar_year_multiplier = (\n",
    "    1 + avg_infl)**(output_dollar_year - ui['start_year'].value)"
   ]
  },
  {
   "cell_type": "code",
   "execution_count": null,
   "id": "382f19bc",
   "metadata": {},
   "outputs": [],
   "source": [
    "# read in input and result names\n",
    "input_names = ui['A4:A30'].value\n",
    "gross_cost_names = ui['D6:D9'].value\n",
    "\n",
    "# update result names\n",
    "gross_cost_names = [\n",
    "    name + ' ($/t-CO2 gross)' for name in gross_cost_names]"
   ]
  },
  {
   "cell_type": "code",
   "execution_count": null,
   "id": "57bae0df",
   "metadata": {},
   "outputs": [],
   "source": [
    "input_names"
   ]
  },
  {
   "cell_type": "code",
   "execution_count": null,
   "id": "59bef659",
   "metadata": {},
   "outputs": [],
   "source": [
    "gross_cost_names"
   ]
  },
  {
   "cell_type": "code",
   "execution_count": null,
   "id": "bb14c602",
   "metadata": {
    "scrolled": true
   },
   "outputs": [],
   "source": [
    "# run model for user-defined flowrates and distances\n",
    "for ui['size_kt_co2_per_yr'].value in size_kt_co2_per_yr:\n",
    "    for ui['distance_mi'].value in distance_mi:\n",
    "        \n",
    "        # print message\n",
    "        print('Running: {:0.1f} ktCO2/yr, {:0.0f} miles...'.format(\n",
    "            ui['size_kt_co2_per_yr'].value, \n",
    "            ui['distance_mi'].value))\n",
    "        \n",
    "        # convert cost results to output dollar year\n",
    "        gross_costs = \\\n",
    "            ui['F6:F9'].options(np.array).value * dollar_year_multiplier\n",
    "        \n",
    "        # append results\n",
    "        list_input_values.append(ui['B4:B30'].value)\n",
    "        list_gross_costs.append(gross_costs)\n",
    "        \n",
    "print('Done.')"
   ]
  },
  {
   "cell_type": "code",
   "execution_count": null,
   "id": "401b391f",
   "metadata": {},
   "outputs": [],
   "source": [
    "# create dataframe for inputs\n",
    "df_inputs = pd.DataFrame(\n",
    "    list_input_values, \n",
    "    columns=input_names\n",
    ")\n",
    "\n",
    "# create dataframe for results\n",
    "df_results = pd.DataFrame(\n",
    "    list_gross_costs, \n",
    "    columns=gross_cost_names\n",
    ")\n",
    "\n",
    "# concatenate dataframes\n",
    "df = pd.concat([df_inputs, df_results], axis='columns')\n",
    "\n",
    "# add output dollar year column\n",
    "df['Output Dollar Year (User Input)'] = output_dollar_year\n",
    "df = df[[df.columns[-1]] + df.columns[:-1].tolist()]\n",
    "\n",
    "# save dataframe\n",
    "df.to_csv('../liq_co2_trucking_costs.csv', index=False)"
   ]
  },
  {
   "cell_type": "code",
   "execution_count": null,
   "id": "75d4e5cc",
   "metadata": {},
   "outputs": [],
   "source": [
    "df.columns.tolist()"
   ]
  },
  {
   "cell_type": "code",
   "execution_count": null,
   "id": "76e6cd3d",
   "metadata": {},
   "outputs": [],
   "source": []
  }
 ],
 "metadata": {
  "kernelspec": {
   "display_name": "Python 3 (ipykernel)",
   "language": "python",
   "name": "python3"
  },
  "language_info": {
   "codemirror_mode": {
    "name": "ipython",
    "version": 3
   },
   "file_extension": ".py",
   "mimetype": "text/x-python",
   "name": "python",
   "nbconvert_exporter": "python",
   "pygments_lexer": "ipython3",
   "version": "3.12.3"
  }
 },
 "nbformat": 4,
 "nbformat_minor": 5
}
